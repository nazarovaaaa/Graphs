{
  "nbformat": 4,
  "nbformat_minor": 0,
  "metadata": {
    "colab": {
      "provenance": []
    },
    "kernelspec": {
      "name": "python3",
      "display_name": "Python 3"
    },
    "language_info": {
      "name": "python"
    }
  },
  "cells": [
    {
      "cell_type": "code",
      "execution_count": 1,
      "metadata": {
        "colab": {
          "base_uri": "https://localhost:8080/"
        },
        "id": "pDv7w3Sbu_fd",
        "outputId": "cf71e030-47b7-4bae-c93e-1f1bc1c7634a"
      },
      "outputs": [
        {
          "output_type": "stream",
          "name": "stdout",
          "text": [
            "Collecting git+https://github.com/python-graphblas/python-graphblas\n",
            "  Cloning https://github.com/python-graphblas/python-graphblas to /tmp/pip-req-build-81jju4zc\n",
            "  Running command git clone --filter=blob:none --quiet https://github.com/python-graphblas/python-graphblas /tmp/pip-req-build-81jju4zc\n",
            "  Resolved https://github.com/python-graphblas/python-graphblas to commit 27b23e414a9a73daa9c3dda9698e227562d9a18c\n",
            "  Installing build dependencies ... \u001b[?25l\u001b[?25hdone\n",
            "  Getting requirements to build wheel ... \u001b[?25l\u001b[?25hdone\n",
            "  Installing backend dependencies ... \u001b[?25l\u001b[?25hdone\n",
            "  Preparing metadata (pyproject.toml) ... \u001b[?25l\u001b[?25hdone\n",
            "Requirement already satisfied: numpy>=1.23 in /usr/local/lib/python3.10/dist-packages (from python-graphblas==2024.2.0+2.g27b23e41) (1.25.2)\n",
            "Collecting donfig>=0.6 (from python-graphblas==2024.2.0+2.g27b23e41)\n",
            "  Downloading donfig-0.8.1.post1-py3-none-any.whl (21 kB)\n",
            "Requirement already satisfied: pyyaml>=5.4 in /usr/local/lib/python3.10/dist-packages (from python-graphblas==2024.2.0+2.g27b23e41) (6.0.1)\n",
            "Collecting suitesparse-graphblas<9,>=7.4.0.0 (from python-graphblas==2024.2.0+2.g27b23e41)\n",
            "  Downloading suitesparse_graphblas-8.2.1.0-cp310-cp310-manylinux_2_17_x86_64.manylinux2014_x86_64.whl (45.7 MB)\n",
            "\u001b[2K     \u001b[90m━━━━━━━━━━━━━━━━━━━━━━━━━━━━━━━━━━━━━━━━\u001b[0m \u001b[32m45.7/45.7 MB\u001b[0m \u001b[31m19.5 MB/s\u001b[0m eta \u001b[36m0:00:00\u001b[0m\n",
            "\u001b[?25hRequirement already satisfied: numba>=0.55 in /usr/local/lib/python3.10/dist-packages (from python-graphblas==2024.2.0+2.g27b23e41) (0.58.1)\n",
            "Requirement already satisfied: llvmlite<0.42,>=0.41.0dev0 in /usr/local/lib/python3.10/dist-packages (from numba>=0.55->python-graphblas==2024.2.0+2.g27b23e41) (0.41.1)\n",
            "Requirement already satisfied: cffi>=1.11 in /usr/local/lib/python3.10/dist-packages (from suitesparse-graphblas<9,>=7.4.0.0->python-graphblas==2024.2.0+2.g27b23e41) (1.16.0)\n",
            "Requirement already satisfied: pycparser in /usr/local/lib/python3.10/dist-packages (from cffi>=1.11->suitesparse-graphblas<9,>=7.4.0.0->python-graphblas==2024.2.0+2.g27b23e41) (2.22)\n",
            "Building wheels for collected packages: python-graphblas\n",
            "  Building wheel for python-graphblas (pyproject.toml) ... \u001b[?25l\u001b[?25hdone\n",
            "  Created wheel for python-graphblas: filename=python_graphblas-2024.2.0+2.g27b23e41-py3-none-any.whl size=351142 sha256=a78f146d8c2618817897dcac7af274a067943bcdd8c5dee5280e745bd7bd2222\n",
            "  Stored in directory: /tmp/pip-ephem-wheel-cache-rtz6o5s0/wheels/1d/ff/e1/7abbc85fde1376805d105bcb709a635cac5d6fcf1cc6f7d3ad\n",
            "Successfully built python-graphblas\n",
            "Installing collected packages: donfig, suitesparse-graphblas, python-graphblas\n",
            "Successfully installed donfig-0.8.1.post1 python-graphblas-2024.2.0+2.g27b23e41 suitesparse-graphblas-8.2.1.0\n"
          ]
        }
      ],
      "source": [
        "!pip install git+https://github.com/python-graphblas/python-graphblas"
      ]
    },
    {
      "cell_type": "code",
      "source": [
        "import numpy as np\n",
        "import pandas as pd\n",
        "import networkx as nx\n",
        "import matplotlib.pyplot as plt\n",
        "import graphblas as gb\n",
        "from graphblas import Matrix, Vector, Scalar\n",
        "from graphblas import dtypes\n",
        "from graphblas import unary, binary, monoid, semiring\n",
        "from graphblas.io import mmread"
      ],
      "metadata": {
        "id": "AwHrVKrIvChN"
      },
      "execution_count": 2,
      "outputs": []
    },
    {
      "cell_type": "code",
      "source": [
        "def BellmanFord(m, start_vertex):\n",
        "  v = Vector(m.dtype, m.nrows)\n",
        "  v[start_vertex] << 0\n",
        "  w = v.dup()\n",
        "  for i in range(m.nrows-1):\n",
        "    w_old = w.dup()\n",
        "    w(binary.min) << w.vxm(m, semiring.min_plus)\n",
        "    if w.isequal(w_old):\n",
        "        break\n",
        "  #проверка на цикл отрицательного веса\n",
        "  w_old = w.dup()\n",
        "  w(binary.min) << w.vxm(m, semiring.min_plus)\n",
        "  if not w.isequal(w_old):\n",
        "    raise Exception(\"Ошибка: в графе есть цикл отрицательного веса\")\n",
        "  #формирую ответ\n",
        "  ar_val=[]\n",
        "  for i in range(m.nrows):\n",
        "    if w[i].value is None:\n",
        "      ar_val.append(float('inf'))\n",
        "    else:\n",
        "      ar_val.append(w[i].value)\n",
        "  return ar_val"
      ],
      "metadata": {
        "id": "GOtaWqLixtDy"
      },
      "execution_count": 3,
      "outputs": []
    },
    {
      "cell_type": "code",
      "source": [
        "def BellmanFordModify(m, start_vertex_ar):\n",
        "  rows=start_vertex_ar.size\n",
        "  cols=m.ncols\n",
        "  v = Matrix(dtypes.INT32, rows, cols)\n",
        "  for i in range(rows):\n",
        "    v[i,start_vertex_ar[i]] << 0\n",
        "  w = v.dup()\n",
        "  for i in range(cols-1):\n",
        "    w_old = w.dup()\n",
        "    for i in range(rows):\n",
        "      w[i,:](binary.min) << w[i,:].vxm(m, semiring.min_plus)\n",
        "    if w.isequal(w_old):\n",
        "        break\n",
        "  #проверка на цикл отрицательного веса\n",
        "  w_old = w.dup()\n",
        "  for i in range(rows):\n",
        "    w[i,:](binary.min) << w[i,:].vxm(m, semiring.min_plus)\n",
        "  if not w.isequal(w_old):\n",
        "    raise Exception(\"Ошибка: в графе есть цикл отрицательного веса\")\n",
        "  #формирую ответ\n",
        "  output = {}\n",
        "  for i in range(rows):\n",
        "    ar_val=[]\n",
        "    for j in range(cols):\n",
        "      if w[i,j].value is None:\n",
        "        ar_val.append(float('inf'))\n",
        "      else:\n",
        "        ar_val.append(w[i,j].value)\n",
        "    output[start_vertex_ar[i]]=np.array(ar_val)\n",
        "  return output"
      ],
      "metadata": {
        "id": "wRRMkDxF2-SC"
      },
      "execution_count": 4,
      "outputs": []
    },
    {
      "cell_type": "code",
      "source": [
        "def FloydWarshall(m):\n",
        "  D=m.dup()\n",
        "  rows=m.nrows\n",
        "  cur_D=m.dup()\n",
        "  for k in range(rows):\n",
        "    #ввожу переменные-матрицы для удобства умножения далее\n",
        "    D_col=Matrix(dtypes.INT32, rows, rows)\n",
        "    D_row=Matrix(dtypes.INT32, rows, rows)\n",
        "    D_col[:,k]=D[:,k].dup()\n",
        "    D_row[k,:]=D[k,:].dup()\n",
        "    cur_D << D_col.mxm(D_row, semiring.min_plus)\n",
        "    #считаю None-значения как бесконечно большие\n",
        "    D << D.ewise_add(cur_D, op=\"min\")\n",
        "  #проверяю наличие циклов с отрицательным весом\n",
        "  D1=D.dup()\n",
        "  cur_D1=cur_D.dup()\n",
        "  D_col1=Matrix(dtypes.INT32, rows, rows)\n",
        "  D_row1=Matrix(dtypes.INT32, rows, rows)\n",
        "  D_col1[:,k]=D1[:,k].dup()\n",
        "  D_row1[k,:]=D1[k,:].dup()\n",
        "  cur_D1 << D_col1.mxm(D_row1, semiring.min_plus)\n",
        "  D1 << D1.ewise_add(cur_D1, op=\"min\")\n",
        "  if not D1.isequal(D):\n",
        "    raise Exception(\"Ошибка: в графе есть цикл отрицательного веса\")\n",
        "  #формирую ответ\n",
        "  output = {}\n",
        "  for i in range(rows):\n",
        "    ar_val=[]\n",
        "    for j in range(rows):\n",
        "      if i==j:\n",
        "        ar_val.append(0)\n",
        "      elif D[i,j].value is None:\n",
        "        ar_val.append(float('inf'))\n",
        "      else:\n",
        "        ar_val.append(D[i,j].value)\n",
        "    output[i]=np.array(ar_val)\n",
        "  return output"
      ],
      "metadata": {
        "id": "lF4Da1waVKug"
      },
      "execution_count": 28,
      "outputs": []
    },
    {
      "cell_type": "code",
      "source": [
        "def TransitiveClosure(m):\n",
        "  rows=m.nrows\n",
        "  I=Matrix(dtypes.INT32, rows, rows)\n",
        "  for i in range(rows):\n",
        "    I[i,i] << 1\n",
        "  D=I.dup()\n",
        "  for i in range(rows):\n",
        "    D1=D.dup()\n",
        "    D=D.mxm(m, semiring.min_plus).ewise_add(I, op=\"min\")\n",
        "    if D1.isequal(D):\n",
        "      break\n",
        "  D2=D.dup()\n",
        "  D2=D2.mxm(m, semiring.min_plus).ewise_add(I, op=\"min\")\n",
        "  if not D2.isequal(D):\n",
        "    raise Exception(\"Ошибка: в графе есть цикл отрицательного веса\")\n",
        "  #формирую ответ\n",
        "  output = {}\n",
        "  for i in range(rows):\n",
        "    ar_val=[]\n",
        "    for j in range(rows):\n",
        "      if D[i,j].value is None:\n",
        "        ar_val.append(float('inf'))\n",
        "      elif i==j:\n",
        "        ar_val.append(0)\n",
        "      else:\n",
        "        ar_val.append(D[i,j].value-1)\n",
        "    output[i]=np.array(ar_val)\n",
        "  return output"
      ],
      "metadata": {
        "id": "05rKxYKdmRpa"
      },
      "execution_count": 21,
      "outputs": []
    },
    {
      "cell_type": "markdown",
      "source": [
        "**Тестирование решений**"
      ],
      "metadata": {
        "id": "piwjE2W6VAMj"
      }
    },
    {
      "cell_type": "code",
      "source": [
        "import numpy as np\n",
        "data = [\n",
        "    [3, 0, 3, 5, 6, 0, 6, 1, 6, 2, 4, 1],\n",
        "    [0, 1, 2, 2, 2, 3, 3, 4, 4, 5, 5, 6],\n",
        "    [3, 2, 3, 1, 5, 3, 7, 8, 3, 1, 7, 4],\n",
        "]\n",
        "rows, cols, weights = data\n",
        "m = Matrix.from_coo(rows, cols, weights)\n",
        "gb.viz.draw(m)\n",
        "\n",
        "#Для Беллман-Форда:\n",
        "#При обходе из вершины 1: до 6 прямой путь кратчайший - 4; до 4 вершины из вариантов 1-6-4 и 1-4\n",
        "#короче вариант 1-6-4, он равен 7; до нулевой вершины путь 1-6-3-0 длиной 14; до вершины 2\n",
        "#путь 1-6-2 длиной 9; до вершины 3 путь 1-6-3 длиной 11, до вершины 5 короче будет путь 1-6-2-5 длиной 10.\n",
        "print('BellmanFord:')\n",
        "print(BellmanFord(m, 1))\n",
        "#При обходе из вершины 2 достижима только вершина 5, путь длиной 1. Остальные вершины недостижимы.\n",
        "print(BellmanFord(m, 2))\n",
        "#При обходе из вершины 3: до 0 и 2 путь кратчайший прямой - длинами 3 и 3 соответственно; до 1 путь через 0\n",
        "#длиной 5; до 6 самый короткий путь - 3-0-1-6 длиной 9; до 4 ближе будет через 6ку, вычисленную ранее - получится\n",
        "#путь длиной 12; до 5ки путь через 2ку - длина 4.\n",
        "print(BellmanFord(m, 3))\n",
        "print('BellmanFordModify:')\n",
        "print(BellmanFordModify(m, np.array([1,2,3])))\n",
        "print('FloydWarshall:')\n",
        "print(FloydWarshall(m))\n",
        "print('TransitiveClosure:')\n",
        "print(TransitiveClosure(m))"
      ],
      "metadata": {
        "colab": {
          "base_uri": "https://localhost:8080/",
          "height": 600
        },
        "id": "aVw5SMdHzEeQ",
        "outputId": "0a566879-5ab5-4fe0-d7f3-90ce2ea9ea46"
      },
      "execution_count": 29,
      "outputs": [
        {
          "output_type": "display_data",
          "data": {
            "text/plain": [
              "<Figure size 640x480 with 1 Axes>"
            ],
            "image/png": "[encoded data removed]"
          },
          "metadata": {}
        },
        {
          "output_type": "stream",
          "name": "stdout",
          "text": [
            "BellmanFord:\n",
            "[14, 0, 9, 11, 7, 10, 4]\n",
            "[inf, inf, 0, inf, inf, 1, inf]\n",
            "[3, 5, 3, 0, 12, 4, 9]\n",
            "BellmanFordModify:\n",
            "{1: array([14,  0,  9, 11,  7, 10,  4]), 2: array([inf, inf,  0., inf, inf,  1., inf]), 3: array([ 3,  5,  3,  0, 12,  4,  9])}\n",
            "FloydWarshall:\n",
            "{0: array([0, 2, 6, 3, 9, 7, 6]), 1: array([14,  0,  9, 11,  7, 10,  4]), 2: array([inf, inf,  0., inf, inf,  1., inf]), 3: array([ 3,  5,  3,  0, 12,  4,  9]), 4: array([inf, inf,  8., inf,  0.,  7., inf]), 5: array([inf, inf,  1., inf, inf,  0., inf]), 6: array([10, 12,  5,  7,  3,  6,  0])}\n",
            "TransitiveClosure:\n",
            "{0: array([0, 2, 6, 3, 9, 7, 6]), 1: array([14,  0,  9, 11,  7, 10,  4]), 2: array([inf, inf,  0., inf, inf,  1., inf]), 3: array([ 3,  5,  3,  0, 12,  4,  9]), 4: array([inf, inf,  8., inf,  0.,  7., inf]), 5: array([inf, inf,  1., inf, inf,  0., inf]), 6: array([10, 12,  5,  7,  3,  6,  0])}\n"
          ]
        }
      ]
    },
    {
      "cell_type": "code",
      "source": [
        "#Для проверки закину в модификацию Беллмана-Форда массив этих же вершин и сравню результаты поэлементно.\n",
        "assert (BellmanFordModify(m, np.array([1,2,3]))[1]==BellmanFord(m, 1)).all()\n",
        "assert (BellmanFordModify(m, np.array([1,2,3]))[2]==BellmanFord(m, 2)).all()\n",
        "assert (BellmanFordModify(m, np.array([1,2,3]))[3]==BellmanFord(m, 3)).all()\n",
        "#Также для этих вершин сравню результаты с Флойд-Варшаллом\n",
        "assert (FloydWarshall(m)[1]==BellmanFord(m, 1)).all()\n",
        "assert (FloydWarshall(m)[2]==BellmanFord(m, 2)).all()\n",
        "assert (FloydWarshall(m)[3]==BellmanFord(m, 3)).all()\n",
        "#Сравню результаты алгоритмов Флойда-Варшала и транзитивного замыкания\n",
        "assert (FloydWarshall(m)[0]==TransitiveClosure(m)[0]).all()\n",
        "assert (FloydWarshall(m)[1]==TransitiveClosure(m)[1]).all()\n",
        "assert (FloydWarshall(m)[2]==TransitiveClosure(m)[2]).all()\n",
        "assert (FloydWarshall(m)[3]==TransitiveClosure(m)[3]).all()\n",
        "assert (FloydWarshall(m)[4]==TransitiveClosure(m)[4]).all()\n",
        "assert (FloydWarshall(m)[5]==TransitiveClosure(m)[5]).all()\n",
        "assert (FloydWarshall(m)[6]==TransitiveClosure(m)[6]).all()"
      ],
      "metadata": {
        "id": "U7xBmGpE3UFh"
      },
      "execution_count": 30,
      "outputs": []
    },
    {
      "cell_type": "code",
      "source": [
        "#Проверю функции на графе с циклом отрицательного веса (должны вернуть ошибку)\n",
        "M1=gb.Matrix.from_coo(\n",
        "    [0, 1, 2],\n",
        "    [1, 2, 0],\n",
        "    [-1,-2,-2],\n",
        "    nrows=3,\n",
        "    ncols=3\n",
        ")\n",
        "gb.viz.draw(M1)"
      ],
      "metadata": {
        "colab": {
          "base_uri": "https://localhost:8080/",
          "height": 406
        },
        "id": "wDN6qXzFBn4o",
        "outputId": "6be95a00-47e3-4a3c-c3bd-8ce19af4d915"
      },
      "execution_count": 17,
      "outputs": [
        {
          "output_type": "display_data",
          "data": {
            "text/plain": [
              "<Figure size 640x480 with 1 Axes>"
            ],
            "image/png": "[encoded data removed]"
          },
          "metadata": {}
        }
      ]
    },
    {
      "cell_type": "code",
      "source": [
        "print(BellmanFord(M1, 2))"
      ],
      "metadata": {
        "colab": {
          "base_uri": "https://localhost:8080/",
          "height": 263
        },
        "id": "hIyS3BEF4CLS",
        "outputId": "4d5d3f4f-4c14-4e3a-bf86-c4eea9647962"
      },
      "execution_count": null,
      "outputs": [
        {
          "output_type": "error",
          "ename": "Exception",
          "evalue": "Ошибка: в графе есть цикл отрицательного веса",
          "traceback": [
            "\u001b[0;31m---------------------------------------------------------------------------\u001b[0m",
            "\u001b[0;31mException\u001b[0m                                 Traceback (most recent call last)",
            "\u001b[0;32m<ipython-input-25-7ea0fdc360d2>\u001b[0m in \u001b[0;36m<cell line: 1>\u001b[0;34m()\u001b[0m\n\u001b[0;32m----> 1\u001b[0;31m \u001b[0mprint\u001b[0m\u001b[0;34m(\u001b[0m\u001b[0mBellmanFord\u001b[0m\u001b[0;34m(\u001b[0m\u001b[0mM1\u001b[0m\u001b[0;34m,\u001b[0m \u001b[0;36m2\u001b[0m\u001b[0;34m)\u001b[0m\u001b[0;34m)\u001b[0m\u001b[0;34m\u001b[0m\u001b[0;34m\u001b[0m\u001b[0m\n\u001b[0m",
            "\u001b[0;32m<ipython-input-14-7f53b65f392f>\u001b[0m in \u001b[0;36mBellmanFord\u001b[0;34m(m, start_vertex)\u001b[0m\n\u001b[1;32m     12\u001b[0m   \u001b[0mw\u001b[0m\u001b[0;34m(\u001b[0m\u001b[0mbinary\u001b[0m\u001b[0;34m.\u001b[0m\u001b[0mmin\u001b[0m\u001b[0;34m)\u001b[0m \u001b[0;34m<<\u001b[0m \u001b[0mw\u001b[0m\u001b[0;34m.\u001b[0m\u001b[0mvxm\u001b[0m\u001b[0;34m(\u001b[0m\u001b[0mm\u001b[0m\u001b[0;34m,\u001b[0m \u001b[0msemiring\u001b[0m\u001b[0;34m.\u001b[0m\u001b[0mmin_plus\u001b[0m\u001b[0;34m)\u001b[0m\u001b[0;34m\u001b[0m\u001b[0;34m\u001b[0m\u001b[0m\n\u001b[1;32m     13\u001b[0m   \u001b[0;32mif\u001b[0m \u001b[0;32mnot\u001b[0m \u001b[0mw\u001b[0m\u001b[0;34m.\u001b[0m\u001b[0misequal\u001b[0m\u001b[0;34m(\u001b[0m\u001b[0mw_old\u001b[0m\u001b[0;34m)\u001b[0m\u001b[0;34m:\u001b[0m\u001b[0;34m\u001b[0m\u001b[0;34m\u001b[0m\u001b[0m\n\u001b[0;32m---> 14\u001b[0;31m     \u001b[0;32mraise\u001b[0m \u001b[0mException\u001b[0m\u001b[0;34m(\u001b[0m\u001b[0;34m\"Ошибка: в графе есть цикл отрицательного веса\"\u001b[0m\u001b[0;34m)\u001b[0m\u001b[0;34m\u001b[0m\u001b[0;34m\u001b[0m\u001b[0m\n\u001b[0m\u001b[1;32m     15\u001b[0m   \u001b[0;31m#формирую ответ\u001b[0m\u001b[0;34m\u001b[0m\u001b[0;34m\u001b[0m\u001b[0m\n\u001b[1;32m     16\u001b[0m   \u001b[0mar_val\u001b[0m\u001b[0;34m=\u001b[0m\u001b[0;34m[\u001b[0m\u001b[0;34m]\u001b[0m\u001b[0;34m\u001b[0m\u001b[0;34m\u001b[0m\u001b[0m\n",
            "\u001b[0;31mException\u001b[0m: Ошибка: в графе есть цикл отрицательного веса"
          ]
        }
      ]
    },
    {
      "cell_type": "code",
      "source": [
        "print(BellmanFordModify(M1, np.array([0,2])))"
      ],
      "metadata": {
        "colab": {
          "base_uri": "https://localhost:8080/",
          "height": 263
        },
        "id": "f3aPTLq81gVp",
        "outputId": "ecd38fd0-685d-42f8-d83f-8ffc0c22a04c"
      },
      "execution_count": null,
      "outputs": [
        {
          "output_type": "error",
          "ename": "Exception",
          "evalue": "Ошибка: в графе есть цикл отрицательного веса",
          "traceback": [
            "\u001b[0;31m---------------------------------------------------------------------------\u001b[0m",
            "\u001b[0;31mException\u001b[0m                                 Traceback (most recent call last)",
            "\u001b[0;32m<ipython-input-24-a64eacaa35b9>\u001b[0m in \u001b[0;36m<cell line: 1>\u001b[0;34m()\u001b[0m\n\u001b[0;32m----> 1\u001b[0;31m \u001b[0mprint\u001b[0m\u001b[0;34m(\u001b[0m\u001b[0mBellmanFordModify\u001b[0m\u001b[0;34m(\u001b[0m\u001b[0mM1\u001b[0m\u001b[0;34m,\u001b[0m \u001b[0mnp\u001b[0m\u001b[0;34m.\u001b[0m\u001b[0marray\u001b[0m\u001b[0;34m(\u001b[0m\u001b[0;34m[\u001b[0m\u001b[0;36m0\u001b[0m\u001b[0;34m,\u001b[0m\u001b[0;36m2\u001b[0m\u001b[0;34m]\u001b[0m\u001b[0;34m)\u001b[0m\u001b[0;34m)\u001b[0m\u001b[0;34m)\u001b[0m\u001b[0;34m\u001b[0m\u001b[0;34m\u001b[0m\u001b[0m\n\u001b[0m",
            "\u001b[0;32m<ipython-input-15-e4d10c3c8b9f>\u001b[0m in \u001b[0;36mBellmanFordModify\u001b[0;34m(m, start_vertex_ar)\u001b[0m\n\u001b[1;32m     17\u001b[0m     \u001b[0mw\u001b[0m\u001b[0;34m[\u001b[0m\u001b[0mi\u001b[0m\u001b[0;34m,\u001b[0m\u001b[0;34m:\u001b[0m\u001b[0;34m]\u001b[0m\u001b[0;34m(\u001b[0m\u001b[0mbinary\u001b[0m\u001b[0;34m.\u001b[0m\u001b[0mmin\u001b[0m\u001b[0;34m)\u001b[0m \u001b[0;34m<<\u001b[0m \u001b[0mw\u001b[0m\u001b[0;34m[\u001b[0m\u001b[0mi\u001b[0m\u001b[0;34m,\u001b[0m\u001b[0;34m:\u001b[0m\u001b[0;34m]\u001b[0m\u001b[0;34m.\u001b[0m\u001b[0mvxm\u001b[0m\u001b[0;34m(\u001b[0m\u001b[0mm\u001b[0m\u001b[0;34m,\u001b[0m \u001b[0msemiring\u001b[0m\u001b[0;34m.\u001b[0m\u001b[0mmin_plus\u001b[0m\u001b[0;34m)\u001b[0m\u001b[0;34m\u001b[0m\u001b[0;34m\u001b[0m\u001b[0m\n\u001b[1;32m     18\u001b[0m   \u001b[0;32mif\u001b[0m \u001b[0;32mnot\u001b[0m \u001b[0mw\u001b[0m\u001b[0;34m.\u001b[0m\u001b[0misequal\u001b[0m\u001b[0;34m(\u001b[0m\u001b[0mw_old\u001b[0m\u001b[0;34m)\u001b[0m\u001b[0;34m:\u001b[0m\u001b[0;34m\u001b[0m\u001b[0;34m\u001b[0m\u001b[0m\n\u001b[0;32m---> 19\u001b[0;31m     \u001b[0;32mraise\u001b[0m \u001b[0mException\u001b[0m\u001b[0;34m(\u001b[0m\u001b[0;34m\"Ошибка: в графе есть цикл отрицательного веса\"\u001b[0m\u001b[0;34m)\u001b[0m\u001b[0;34m\u001b[0m\u001b[0;34m\u001b[0m\u001b[0m\n\u001b[0m\u001b[1;32m     20\u001b[0m   \u001b[0;31m#формирую ответ\u001b[0m\u001b[0;34m\u001b[0m\u001b[0;34m\u001b[0m\u001b[0m\n\u001b[1;32m     21\u001b[0m   \u001b[0moutput\u001b[0m \u001b[0;34m=\u001b[0m \u001b[0;34m{\u001b[0m\u001b[0;34m}\u001b[0m\u001b[0;34m\u001b[0m\u001b[0;34m\u001b[0m\u001b[0m\n",
            "\u001b[0;31mException\u001b[0m: Ошибка: в графе есть цикл отрицательного веса"
          ]
        }
      ]
    },
    {
      "cell_type": "code",
      "source": [
        "print(FloydWarshall(M1))"
      ],
      "metadata": {
        "colab": {
          "base_uri": "https://localhost:8080/",
          "height": 263
        },
        "id": "iGganU2lg3sX",
        "outputId": "e65d8263-3d6d-45f8-cce2-e494189fab14"
      },
      "execution_count": null,
      "outputs": [
        {
          "output_type": "error",
          "ename": "Exception",
          "evalue": "Ошибка: в графе есть цикл отрицательного веса",
          "traceback": [
            "\u001b[0;31m---------------------------------------------------------------------------\u001b[0m",
            "\u001b[0;31mException\u001b[0m                                 Traceback (most recent call last)",
            "\u001b[0;32m<ipython-input-126-29bc93ba9e87>\u001b[0m in \u001b[0;36m<cell line: 1>\u001b[0;34m()\u001b[0m\n\u001b[0;32m----> 1\u001b[0;31m \u001b[0mprint\u001b[0m\u001b[0;34m(\u001b[0m\u001b[0mFloydWarshall\u001b[0m\u001b[0;34m(\u001b[0m\u001b[0mM1\u001b[0m\u001b[0;34m)\u001b[0m\u001b[0;34m)\u001b[0m\u001b[0;34m\u001b[0m\u001b[0;34m\u001b[0m\u001b[0m\n\u001b[0m",
            "\u001b[0;32m<ipython-input-124-ba504fd46851>\u001b[0m in \u001b[0;36mFloydWarshall\u001b[0;34m(m)\u001b[0m\n\u001b[1;32m     22\u001b[0m   \u001b[0mD1\u001b[0m \u001b[0;34m<<\u001b[0m \u001b[0mD1\u001b[0m\u001b[0;34m.\u001b[0m\u001b[0mewise_add\u001b[0m\u001b[0;34m(\u001b[0m\u001b[0mcur_D1\u001b[0m\u001b[0;34m,\u001b[0m \u001b[0mop\u001b[0m\u001b[0;34m=\u001b[0m\u001b[0;34m\"min\"\u001b[0m\u001b[0;34m)\u001b[0m\u001b[0;34m\u001b[0m\u001b[0;34m\u001b[0m\u001b[0m\n\u001b[1;32m     23\u001b[0m   \u001b[0;32mif\u001b[0m \u001b[0;32mnot\u001b[0m \u001b[0mD1\u001b[0m\u001b[0;34m.\u001b[0m\u001b[0misequal\u001b[0m\u001b[0;34m(\u001b[0m\u001b[0mD\u001b[0m\u001b[0;34m)\u001b[0m\u001b[0;34m:\u001b[0m\u001b[0;34m\u001b[0m\u001b[0;34m\u001b[0m\u001b[0m\n\u001b[0;32m---> 24\u001b[0;31m     \u001b[0;32mraise\u001b[0m \u001b[0mException\u001b[0m\u001b[0;34m(\u001b[0m\u001b[0;34m\"Ошибка: в графе есть цикл отрицательного веса\"\u001b[0m\u001b[0;34m)\u001b[0m\u001b[0;34m\u001b[0m\u001b[0;34m\u001b[0m\u001b[0m\n\u001b[0m\u001b[1;32m     25\u001b[0m   \u001b[0;31m#формирую ответ\u001b[0m\u001b[0;34m\u001b[0m\u001b[0;34m\u001b[0m\u001b[0m\n\u001b[1;32m     26\u001b[0m   \u001b[0moutput\u001b[0m \u001b[0;34m=\u001b[0m \u001b[0;34m{\u001b[0m\u001b[0;34m}\u001b[0m\u001b[0;34m\u001b[0m\u001b[0;34m\u001b[0m\u001b[0m\n",
            "\u001b[0;31mException\u001b[0m: Ошибка: в графе есть цикл отрицательного веса"
          ]
        }
      ]
    },
    {
      "cell_type": "code",
      "source": [
        "print(TransitiveClosure(M1))"
      ],
      "metadata": {
        "colab": {
          "base_uri": "https://localhost:8080/",
          "height": 245
        },
        "id": "HjxSqi30nntg",
        "outputId": "1b0b5052-9fd9-43ff-a65e-1de7ea8feca0"
      },
      "execution_count": 20,
      "outputs": [
        {
          "output_type": "error",
          "ename": "Exception",
          "evalue": "Ошибка: в графе есть цикл отрицательного веса",
          "traceback": [
            "\u001b[0;31m---------------------------------------------------------------------------\u001b[0m",
            "\u001b[0;31mException\u001b[0m                                 Traceback (most recent call last)",
            "\u001b[0;32m<ipython-input-20-6939eacb580a>\u001b[0m in \u001b[0;36m<cell line: 1>\u001b[0;34m()\u001b[0m\n\u001b[0;32m----> 1\u001b[0;31m \u001b[0mprint\u001b[0m\u001b[0;34m(\u001b[0m\u001b[0mTransitiveClosure\u001b[0m\u001b[0;34m(\u001b[0m\u001b[0mM1\u001b[0m\u001b[0;34m)\u001b[0m\u001b[0;34m)\u001b[0m\u001b[0;34m\u001b[0m\u001b[0;34m\u001b[0m\u001b[0m\n\u001b[0m",
            "\u001b[0;32m<ipython-input-19-efa40bf22bb0>\u001b[0m in \u001b[0;36mTransitiveClosure\u001b[0;34m(m)\u001b[0m\n\u001b[1;32m     13\u001b[0m   \u001b[0mD2\u001b[0m\u001b[0;34m=\u001b[0m\u001b[0mD2\u001b[0m\u001b[0;34m.\u001b[0m\u001b[0mmxm\u001b[0m\u001b[0;34m(\u001b[0m\u001b[0mm\u001b[0m\u001b[0;34m,\u001b[0m \u001b[0msemiring\u001b[0m\u001b[0;34m.\u001b[0m\u001b[0mmin_plus\u001b[0m\u001b[0;34m)\u001b[0m\u001b[0;34m.\u001b[0m\u001b[0mewise_add\u001b[0m\u001b[0;34m(\u001b[0m\u001b[0mI\u001b[0m\u001b[0;34m,\u001b[0m \u001b[0mop\u001b[0m\u001b[0;34m=\u001b[0m\u001b[0;34m\"min\"\u001b[0m\u001b[0;34m)\u001b[0m\u001b[0;34m\u001b[0m\u001b[0;34m\u001b[0m\u001b[0m\n\u001b[1;32m     14\u001b[0m   \u001b[0;32mif\u001b[0m \u001b[0;32mnot\u001b[0m \u001b[0mD2\u001b[0m\u001b[0;34m.\u001b[0m\u001b[0misequal\u001b[0m\u001b[0;34m(\u001b[0m\u001b[0mD\u001b[0m\u001b[0;34m)\u001b[0m\u001b[0;34m:\u001b[0m\u001b[0;34m\u001b[0m\u001b[0;34m\u001b[0m\u001b[0m\n\u001b[0;32m---> 15\u001b[0;31m     \u001b[0;32mraise\u001b[0m \u001b[0mException\u001b[0m\u001b[0;34m(\u001b[0m\u001b[0;34m\"Ошибка: в графе есть цикл отрицательного веса\"\u001b[0m\u001b[0;34m)\u001b[0m\u001b[0;34m\u001b[0m\u001b[0;34m\u001b[0m\u001b[0m\n\u001b[0m\u001b[1;32m     16\u001b[0m   \u001b[0;32mreturn\u001b[0m \u001b[0mD\u001b[0m\u001b[0;34m\u001b[0m\u001b[0;34m\u001b[0m\u001b[0m\n",
            "\u001b[0;31mException\u001b[0m: Ошибка: в графе есть цикл отрицательного веса"
          ]
        }
      ]
    }
  ]
}