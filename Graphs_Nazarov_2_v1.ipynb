{
  "nbformat": 4,
  "nbformat_minor": 0,
  "metadata": {
    "colab": {
      "provenance": []
    },
    "kernelspec": {
      "name": "python3",
      "display_name": "Python 3"
    },
    "language_info": {
      "name": "python"
    }
  },
  "cells": [
    {
      "cell_type": "code",
      "execution_count": 1,
      "metadata": {
        "colab": {
          "base_uri": "https://localhost:8080/"
        },
        "id": "pVvezVyCbUX2",
        "outputId": "7cd55e34-f277-46d0-b983-5590833ade21"
      },
      "outputs": [
        {
          "output_type": "stream",
          "name": "stdout",
          "text": [
            "Collecting git+https://github.com/python-graphblas/python-graphblas\n",
            "  Cloning https://github.com/python-graphblas/python-graphblas to /tmp/pip-req-build-uk1rwnvg\n",
            "  Running command git clone --filter=blob:none --quiet https://github.com/python-graphblas/python-graphblas /tmp/pip-req-build-uk1rwnvg\n",
            "  Resolved https://github.com/python-graphblas/python-graphblas to commit 27b23e414a9a73daa9c3dda9698e227562d9a18c\n",
            "  Installing build dependencies ... \u001b[?25l\u001b[?25hdone\n",
            "  Getting requirements to build wheel ... \u001b[?25l\u001b[?25hdone\n",
            "  Installing backend dependencies ... \u001b[?25l\u001b[?25hdone\n",
            "  Preparing metadata (pyproject.toml) ... \u001b[?25l\u001b[?25hdone\n",
            "Requirement already satisfied: numpy>=1.23 in /usr/local/lib/python3.10/dist-packages (from python-graphblas==2024.2.0+2.g27b23e41) (1.25.2)\n",
            "Collecting donfig>=0.6 (from python-graphblas==2024.2.0+2.g27b23e41)\n",
            "  Downloading donfig-0.8.1.post0-py3-none-any.whl (24 kB)\n",
            "Requirement already satisfied: pyyaml>=5.4 in /usr/local/lib/python3.10/dist-packages (from python-graphblas==2024.2.0+2.g27b23e41) (6.0.1)\n",
            "Collecting suitesparse-graphblas<9,>=7.4.0.0 (from python-graphblas==2024.2.0+2.g27b23e41)\n",
            "  Downloading suitesparse_graphblas-8.2.1.0-cp310-cp310-manylinux_2_17_x86_64.manylinux2014_x86_64.whl (45.7 MB)\n",
            "\u001b[2K     \u001b[90m━━━━━━━━━━━━━━━━━━━━━━━━━━━━━━━━━━━━━━━━\u001b[0m \u001b[32m45.7/45.7 MB\u001b[0m \u001b[31m17.6 MB/s\u001b[0m eta \u001b[36m0:00:00\u001b[0m\n",
            "\u001b[?25hRequirement already satisfied: numba>=0.55 in /usr/local/lib/python3.10/dist-packages (from python-graphblas==2024.2.0+2.g27b23e41) (0.58.1)\n",
            "Requirement already satisfied: llvmlite<0.42,>=0.41.0dev0 in /usr/local/lib/python3.10/dist-packages (from numba>=0.55->python-graphblas==2024.2.0+2.g27b23e41) (0.41.1)\n",
            "Requirement already satisfied: cffi>=1.11 in /usr/local/lib/python3.10/dist-packages (from suitesparse-graphblas<9,>=7.4.0.0->python-graphblas==2024.2.0+2.g27b23e41) (1.16.0)\n",
            "Requirement already satisfied: pycparser in /usr/local/lib/python3.10/dist-packages (from cffi>=1.11->suitesparse-graphblas<9,>=7.4.0.0->python-graphblas==2024.2.0+2.g27b23e41) (2.22)\n",
            "Building wheels for collected packages: python-graphblas\n",
            "  Building wheel for python-graphblas (pyproject.toml) ... \u001b[?25l\u001b[?25hdone\n",
            "  Created wheel for python-graphblas: filename=python_graphblas-2024.2.0+2.g27b23e41-py3-none-any.whl size=351142 sha256=d6ec5effca7ae258981fedd6664d620ae4870dd3ab00c5bf126df963c07da035\n",
            "  Stored in directory: /tmp/pip-ephem-wheel-cache-5xz9t67r/wheels/1d/ff/e1/7abbc85fde1376805d105bcb709a635cac5d6fcf1cc6f7d3ad\n",
            "Successfully built python-graphblas\n",
            "Installing collected packages: donfig, suitesparse-graphblas, python-graphblas\n",
            "Successfully installed donfig-0.8.1.post0 python-graphblas-2024.2.0+2.g27b23e41 suitesparse-graphblas-8.2.1.0\n"
          ]
        }
      ],
      "source": [
        "!pip install git+https://github.com/python-graphblas/python-graphblas"
      ]
    },
    {
      "cell_type": "code",
      "source": [
        "import numpy as np\n",
        "import pandas as pd\n",
        "import networkx as nx\n",
        "import matplotlib.pyplot as plt\n",
        "import graphblas as gb\n",
        "from graphblas import Matrix, Vector, Scalar\n",
        "from graphblas import dtypes\n",
        "from graphblas import unary, binary, monoid, semiring\n",
        "from graphblas.io import mmread"
      ],
      "metadata": {
        "id": "efo1p0VQbVbz"
      },
      "execution_count": 2,
      "outputs": []
    },
    {
      "cell_type": "markdown",
      "source": [
        "**MSBFS-Levels**"
      ],
      "metadata": {
        "id": "R7gEUS4iD7cw"
      }
    },
    {
      "cell_type": "code",
      "source": [
        "def MSBFS_Levels(A, vertex_cnt):\n",
        "  #1.Проверка на ориентированность графа\n",
        "  n = A.nrows #получаю общее количество вершин\n",
        "  if A.isequal(A.T) and A.nvals>0: #проверяю, что граф неориентирован\n",
        "    raise Exception(\"Ошибка: граф является неориентированным\")\n",
        "  #2.Задание начальных значений для параметров\n",
        "  m = vertex_cnt.size #получаю количество строк массива (по количеству стартовых вершин)\n",
        "  result = Matrix(dtypes.INT32, m, n) #задаю результирующую матрицу\n",
        "  f = Matrix(bool, m, n) #задаю фронт\n",
        "  succ = Vector(bool, m) #задаю вектор, определяющий доступность каких-либо вершин из текущей\n",
        "  for i in range(m):\n",
        "    f[i,vertex_cnt[i]] << True #заполняю изначальную матрицу строками (по одной на каждую стартовую вершину)\n",
        "  level=0\n",
        "  #3.Цикл обхода графа\n",
        "  while True:\n",
        "    result(mask=f.V) << level #заполняю стартовые вершины как нулевой уровень\n",
        "    f(~result.S, replace=True) << f.mxm(A, semiring.lor_land) #рассчитываю следующий фронт (путем перемножения матриц и использования маски)\n",
        "    for i in range(m):\n",
        "      succ[i] << f[i,:].reduce(monoid.lor, allow_empty=False) #заполняю вектор наличия доступных вершин (для каждой из стартовых)\n",
        "    #рассчитываю, когда остановить цикл (если ни из одной стартовой вершины на очередной итерации нет доступных вершин)\n",
        "    cnt_true=0\n",
        "    for i in range(m):\n",
        "      if succ[i]:\n",
        "        #если хотя бы один элемент True, дальше искать не имеет смысла\n",
        "        cnt_true+=1\n",
        "        break\n",
        "    if cnt_true==0:\n",
        "      break\n",
        "    level+=1 #увеличиваю счетчик уровней\n",
        "  #4.Приведение ответа к требуемому формату\n",
        "  #заполняю недоступные вершины дефолтными значениями\n",
        "  #преобразую полученный результат в указанный в условии формат: словарь, где ключ - номер вершины, значение - массив номеров уровней\n",
        "  output = {}\n",
        "  for i in range(m):\n",
        "    ar_val=[]\n",
        "    for j in range(n):\n",
        "      if result[i,j].value is None:\n",
        "        ar_val.append(-1)\n",
        "      else:\n",
        "        ar_val.append(result[i,j].value)\n",
        "    output[vertex_cnt[i]]=np.array(ar_val)\n",
        "  return output"
      ],
      "metadata": {
        "id": "ItsjRPvEbVeK"
      },
      "execution_count": 21,
      "outputs": []
    },
    {
      "cell_type": "markdown",
      "source": [
        "**MSBFS-Parents**"
      ],
      "metadata": {
        "id": "ED1eMM5AYbiU"
      }
    },
    {
      "cell_type": "code",
      "source": [
        "def MSBFS_Parents(A, vertex_cnt):\n",
        "  #1.Проверка на ориентированность графа\n",
        "  N = A.nrows #получаю общее количество вершин\n",
        "  if A.isequal(A.T) and A.nvals>0: #проверяю, что граф неориентирован\n",
        "    raise Exception(\"Ошибка: граф является неориентированным\")\n",
        "  M = vertex_cnt.size\n",
        "  #2.Задание стартовых значений\n",
        "  #генерация матрицы, где идентификатор вершины равен значению\n",
        "  index_ramp = Matrix(dtypes.UINT64, M, N)\n",
        "  for i in range(M):\n",
        "    for j in range(N):\n",
        "      index_ramp[i,j] << j\n",
        "  parents = Matrix(dtypes.UINT64, M, N)\n",
        "  wavefront = Matrix(dtypes.UINT64, M, N)\n",
        "  for i in range(M):\n",
        "    parents[i,vertex_cnt[i]] << vertex_cnt[i] #заполняю изначальную матрицу строками (по номерам соответствующей вершины)\n",
        "    wavefront[i, vertex_cnt[i]] << 1\n",
        "  #3.Цикл обхода графа\n",
        "  while wavefront.nvals > 0:\n",
        "    wavefront << index_ramp.ewise_mult(wavefront, binary.first) #преобразуем все сохраненные значения в wavefront в их индекс\n",
        "    wavefront(~parents.S, replace=True) << wavefront.mxm(A, semiring.min_first) #маскирование родительского списка\n",
        "    parents(binary.plus) << wavefront #Объединение новых родительских элементов в текущий волновой фронт с существующими родителями\n",
        "  #4.Приведение ответа к требуемому формату\n",
        "  #заполняю недоступные вершины дефолтными значениями\n",
        "  #преобразую полученный результат в указанный в условии формат: словарь, где ключ - номер вершины, значение - массив родительских вершин\n",
        "  output={}\n",
        "  for i in range(M):\n",
        "    ar_val=[]\n",
        "    for j in range(N):\n",
        "      if parents[i,j].value is None:\n",
        "        ar_val.append(-2)\n",
        "      elif j==vertex_cnt[i]:\n",
        "        ar_val.append(-1)\n",
        "      else:\n",
        "        ar_val.append(parents[i,j].value)\n",
        "    output[vertex_cnt[i]]=np.array(ar_val)\n",
        "  return output"
      ],
      "metadata": {
        "id": "srPLTbEmLGNH"
      },
      "execution_count": 15,
      "outputs": []
    },
    {
      "cell_type": "markdown",
      "source": [
        "**Тестирование реализаций**\n",
        "\n",
        "Далее будут представлены 3 графа для проверки корректности созданных реализаций. Они представляют собой 3 различных основных конфигурации: неориентированный граф, граф, где все вершины связаны между собой (но не обязательно достижимы из каждой стартовой точки) и граф, у которого вершины сгруппированы на несколько связанных кусков. Во втором и третьем кейсе сделааю так, чтобы были как достижимые, так и недостижимые вершины."
      ],
      "metadata": {
        "id": "xQ8viaNsYiFs"
      }
    },
    {
      "cell_type": "code",
      "source": [
        "#Первым проверим поведение созданных функций на неориентированном графе (они должны вернуть ошибку)\n",
        "M1=gb.Matrix.from_coo(\n",
        "    [0,1,0,2,2,3],\n",
        "    [1,0,2,0,3,2],\n",
        "    [True,True,True,True,True,True],\n",
        "    nrows=4,\n",
        "    ncols=4\n",
        ")\n",
        "gb.viz.draw(M1)"
      ],
      "metadata": {
        "colab": {
          "base_uri": "https://localhost:8080/",
          "height": 406
        },
        "id": "uRV6sVG6ZBwt",
        "outputId": "2faff314-1ba6-465c-b412-e8a8c8cc5207"
      },
      "execution_count": 4,
      "outputs": [
        {
          "output_type": "display_data",
          "data": {
            "text/plain": [
              "<Figure size 640x480 with 1 Axes>"
            ],
            "image/png": "[encoded data removed]"
          },
          "metadata": {}
        }
      ]
    },
    {
      "cell_type": "code",
      "source": [
        "print(MSBFS_Levels(M1, np.array([0,1,2,3])))"
      ],
      "metadata": {
        "colab": {
          "base_uri": "https://localhost:8080/",
          "height": 263
        },
        "id": "W0-ERjTXZOOK",
        "outputId": "c040b908-0834-4257-b374-9538ddfebc61"
      },
      "execution_count": 17,
      "outputs": [
        {
          "output_type": "error",
          "ename": "Exception",
          "evalue": "Ошибка: граф является неориентированным",
          "traceback": [
            "\u001b[0;31m---------------------------------------------------------------------------\u001b[0m",
            "\u001b[0;31mException\u001b[0m                                 Traceback (most recent call last)",
            "\u001b[0;32m<ipython-input-17-674e89f786db>\u001b[0m in \u001b[0;36m<cell line: 1>\u001b[0;34m()\u001b[0m\n\u001b[0;32m----> 1\u001b[0;31m \u001b[0mprint\u001b[0m\u001b[0;34m(\u001b[0m\u001b[0mMSBFS_Levels\u001b[0m\u001b[0;34m(\u001b[0m\u001b[0mM1\u001b[0m\u001b[0;34m,\u001b[0m \u001b[0mnp\u001b[0m\u001b[0;34m.\u001b[0m\u001b[0marray\u001b[0m\u001b[0;34m(\u001b[0m\u001b[0;34m[\u001b[0m\u001b[0;36m0\u001b[0m\u001b[0;34m,\u001b[0m\u001b[0;36m1\u001b[0m\u001b[0;34m,\u001b[0m\u001b[0;36m2\u001b[0m\u001b[0;34m,\u001b[0m\u001b[0;36m3\u001b[0m\u001b[0;34m]\u001b[0m\u001b[0;34m)\u001b[0m\u001b[0;34m)\u001b[0m\u001b[0;34m)\u001b[0m\u001b[0;34m\u001b[0m\u001b[0;34m\u001b[0m\u001b[0m\n\u001b[0m",
            "\u001b[0;32m<ipython-input-14-41a247767eb1>\u001b[0m in \u001b[0;36mMSBFS_Levels\u001b[0;34m(A, vertex_cnt)\u001b[0m\n\u001b[1;32m      3\u001b[0m   \u001b[0mn\u001b[0m \u001b[0;34m=\u001b[0m \u001b[0mA\u001b[0m\u001b[0;34m.\u001b[0m\u001b[0mnrows\u001b[0m \u001b[0;31m#получаю общее количество вершин\u001b[0m\u001b[0;34m\u001b[0m\u001b[0;34m\u001b[0m\u001b[0m\n\u001b[1;32m      4\u001b[0m   \u001b[0;32mif\u001b[0m \u001b[0mA\u001b[0m\u001b[0;34m.\u001b[0m\u001b[0misequal\u001b[0m\u001b[0;34m(\u001b[0m\u001b[0mA\u001b[0m\u001b[0;34m.\u001b[0m\u001b[0mT\u001b[0m\u001b[0;34m)\u001b[0m \u001b[0;32mand\u001b[0m \u001b[0mA\u001b[0m\u001b[0;34m.\u001b[0m\u001b[0mnvals\u001b[0m\u001b[0;34m>\u001b[0m\u001b[0;36m0\u001b[0m\u001b[0;34m:\u001b[0m \u001b[0;31m#проверяю, что граф неориентирован\u001b[0m\u001b[0;34m\u001b[0m\u001b[0;34m\u001b[0m\u001b[0m\n\u001b[0;32m----> 5\u001b[0;31m     \u001b[0;32mraise\u001b[0m \u001b[0mException\u001b[0m\u001b[0;34m(\u001b[0m\u001b[0;34m\"Ошибка: граф является неориентированным\"\u001b[0m\u001b[0;34m)\u001b[0m\u001b[0;34m\u001b[0m\u001b[0;34m\u001b[0m\u001b[0m\n\u001b[0m\u001b[1;32m      6\u001b[0m   \u001b[0;31m#2.Задание начальных значений для параметров\u001b[0m\u001b[0;34m\u001b[0m\u001b[0;34m\u001b[0m\u001b[0m\n\u001b[1;32m      7\u001b[0m   \u001b[0mm\u001b[0m \u001b[0;34m=\u001b[0m \u001b[0mvertex_cnt\u001b[0m\u001b[0;34m.\u001b[0m\u001b[0msize\u001b[0m \u001b[0;31m#получаю количество строк массива (по количеству стартовых вершин)\u001b[0m\u001b[0;34m\u001b[0m\u001b[0;34m\u001b[0m\u001b[0m\n",
            "\u001b[0;31mException\u001b[0m: Ошибка: граф является неориентированным"
          ]
        }
      ]
    },
    {
      "cell_type": "code",
      "source": [
        "print(MSBFS_Parents(M1, np.array([0,1])))"
      ],
      "metadata": {
        "colab": {
          "base_uri": "https://localhost:8080/",
          "height": 263
        },
        "id": "YCHVdPLUZh1N",
        "outputId": "3aba6fa7-4936-4c9a-81dc-9f9dae31d6d2"
      },
      "execution_count": 16,
      "outputs": [
        {
          "output_type": "error",
          "ename": "Exception",
          "evalue": "Ошибка: граф является неориентированным",
          "traceback": [
            "\u001b[0;31m---------------------------------------------------------------------------\u001b[0m",
            "\u001b[0;31mException\u001b[0m                                 Traceback (most recent call last)",
            "\u001b[0;32m<ipython-input-16-6eb1aa88b843>\u001b[0m in \u001b[0;36m<cell line: 1>\u001b[0;34m()\u001b[0m\n\u001b[0;32m----> 1\u001b[0;31m \u001b[0mprint\u001b[0m\u001b[0;34m(\u001b[0m\u001b[0mMSBFS_Parents\u001b[0m\u001b[0;34m(\u001b[0m\u001b[0mM1\u001b[0m\u001b[0;34m,\u001b[0m \u001b[0mnp\u001b[0m\u001b[0;34m.\u001b[0m\u001b[0marray\u001b[0m\u001b[0;34m(\u001b[0m\u001b[0;34m[\u001b[0m\u001b[0;36m0\u001b[0m\u001b[0;34m,\u001b[0m\u001b[0;36m1\u001b[0m\u001b[0;34m]\u001b[0m\u001b[0;34m)\u001b[0m\u001b[0;34m)\u001b[0m\u001b[0;34m)\u001b[0m\u001b[0;34m\u001b[0m\u001b[0;34m\u001b[0m\u001b[0m\n\u001b[0m",
            "\u001b[0;32m<ipython-input-15-e57177e91d6f>\u001b[0m in \u001b[0;36mMSBFS_Parents\u001b[0;34m(A, vertex_cnt)\u001b[0m\n\u001b[1;32m      3\u001b[0m   \u001b[0mN\u001b[0m \u001b[0;34m=\u001b[0m \u001b[0mA\u001b[0m\u001b[0;34m.\u001b[0m\u001b[0mnrows\u001b[0m \u001b[0;31m#получаю общее количество вершин\u001b[0m\u001b[0;34m\u001b[0m\u001b[0;34m\u001b[0m\u001b[0m\n\u001b[1;32m      4\u001b[0m   \u001b[0;32mif\u001b[0m \u001b[0mA\u001b[0m\u001b[0;34m.\u001b[0m\u001b[0misequal\u001b[0m\u001b[0;34m(\u001b[0m\u001b[0mA\u001b[0m\u001b[0;34m.\u001b[0m\u001b[0mT\u001b[0m\u001b[0;34m)\u001b[0m \u001b[0;32mand\u001b[0m \u001b[0mA\u001b[0m\u001b[0;34m.\u001b[0m\u001b[0mnvals\u001b[0m\u001b[0;34m>\u001b[0m\u001b[0;36m0\u001b[0m\u001b[0;34m:\u001b[0m \u001b[0;31m#проверяю, что граф неориентирован\u001b[0m\u001b[0;34m\u001b[0m\u001b[0;34m\u001b[0m\u001b[0m\n\u001b[0;32m----> 5\u001b[0;31m     \u001b[0;32mraise\u001b[0m \u001b[0mException\u001b[0m\u001b[0;34m(\u001b[0m\u001b[0;34m\"Ошибка: граф является неориентированным\"\u001b[0m\u001b[0;34m)\u001b[0m\u001b[0;34m\u001b[0m\u001b[0;34m\u001b[0m\u001b[0m\n\u001b[0m\u001b[1;32m      6\u001b[0m   \u001b[0mM\u001b[0m \u001b[0;34m=\u001b[0m \u001b[0mvertex_cnt\u001b[0m\u001b[0;34m.\u001b[0m\u001b[0msize\u001b[0m\u001b[0;34m\u001b[0m\u001b[0;34m\u001b[0m\u001b[0m\n\u001b[1;32m      7\u001b[0m   \u001b[0;31m#2.Задание стартовых значений\u001b[0m\u001b[0;34m\u001b[0m\u001b[0;34m\u001b[0m\u001b[0m\n",
            "\u001b[0;31mException\u001b[0m: Ошибка: граф является неориентированным"
          ]
        }
      ]
    },
    {
      "cell_type": "code",
      "source": [
        "#Далее проверим граф, где все вершины связаны между собой\n",
        "#для простоты проверки возьмем всего 4 вершины и 2 стартовых\n",
        "M2=gb.Matrix.from_coo(\n",
        "    [0,1,2,0,2],\n",
        "    [1,2,1,3,3],\n",
        "    [True,True,True,True,True],\n",
        "    nrows=4,\n",
        "    ncols=4\n",
        ")\n",
        "gb.viz.draw(M2)\n",
        "#стартуем из вершин 0 и 2:\n",
        "#для уровней:\n",
        "#-для старта из 0: вершины 1 и 3 - 1го уровня, 2 - 2го уровня\n",
        "#-для старта из 2: вершины 3 и 1 - 1го уровня, 0 - недостижима\n",
        "assert (MSBFS_Levels(M2, np.array([0,2]))[0]==np.array([0, 1, 2, 1])).all()\n",
        "assert (MSBFS_Levels(M2, np.array([0,2]))[2]==np.array([-1, 1, 0, 1])).all()\n",
        "#для родителей:\n",
        "#-для старта из 0: вершина 1 достижима из 0, 2 - из 1, 3 из 0 и 2 (ближайшая 0)\n",
        "#-для старта из 2: вершины 3 и 1 достижимы из 2, 0 - недостижима в принципе\n",
        "assert (MSBFS_Parents(M2, np.array([0,2]))[0]==np.array([-1, 0, 1, 0])).all()\n",
        "assert (MSBFS_Parents(M2, np.array([0,2]))[2]==np.array([-2, 2, -1, 2])).all()"
      ],
      "metadata": {
        "colab": {
          "base_uri": "https://localhost:8080/",
          "height": 406
        },
        "id": "xY4i10UrMPNX",
        "outputId": "982e1de7-d830-49ec-84a5-1ad6b6a21180"
      },
      "execution_count": 18,
      "outputs": [
        {
          "output_type": "display_data",
          "data": {
            "text/plain": [
              "<Figure size 640x480 with 1 Axes>"
            ],
            "image/png": "[encoded data removed]"
          },
          "metadata": {}
        }
      ]
    },
    {
      "cell_type": "code",
      "source": [
        "#Последним проверим граф, состоящих из трех связанных кусков\n",
        "#для простоты проверки возьмем всего 6 вершин и 3 стартовых\n",
        "M3=gb.Matrix.from_coo(\n",
        "    [0,2,3,4,5],\n",
        "    [1,3,2,5,4],\n",
        "    [True,True,True,True,True],\n",
        "    nrows=6,\n",
        "    ncols=6\n",
        ")\n",
        "gb.viz.draw(M3)\n",
        "#стартуем из вершин 0, 2 и 4\n",
        "#для уровней:\n",
        "#-здесь все аналогично: соседняя вершина - 1го уровня, остальные недостижимы\n",
        "assert (MSBFS_Levels(M3, np.array([0,2,4]))[0]==np.array([0, 1, -1, -1, -1, -1])).all()\n",
        "assert (MSBFS_Levels(M3, np.array([0,2,4]))[2]==np.array([-1, -1, 0, 1, -1, -1])).all()\n",
        "assert (MSBFS_Levels(M3, np.array([0,2,4]))[4]==np.array([-1, -1, -1, -1, 0, 1])).all()\n",
        "#для родителей:\n",
        "#-здесь все такаже: соседняя достижима из стартовой, остальные недостижимы\n",
        "assert (MSBFS_Parents(M3, np.array([0,2,4]))[0]==np.array([-1, 0, -2, -2, -2, -2])).all()\n",
        "assert (MSBFS_Parents(M3, np.array([0,2,4]))[2]==np.array([-2, -2, -1, 2, -2, -2])).all()\n",
        "assert (MSBFS_Parents(M3, np.array([0,2,4]))[4]==np.array([-2, -2, -2, -2, -1, 4])).all()"
      ],
      "metadata": {
        "colab": {
          "base_uri": "https://localhost:8080/",
          "height": 406
        },
        "id": "RkACKLkweZ2m",
        "outputId": "abb37093-9348-47a9-f98c-5f232a9dc18a"
      },
      "execution_count": 19,
      "outputs": [
        {
          "output_type": "display_data",
          "data": {
            "text/plain": [
              "<Figure size 640x480 with 1 Axes>"
            ],
            "image/png": "[encoded data removed]"
          },
          "metadata": {}
        }
      ]
    },
    {
      "cell_type": "markdown",
      "source": [
        "**Тестирование на реальных графах**"
      ],
      "metadata": {
        "id": "IWimi-QugVx4"
      }
    },
    {
      "cell_type": "code",
      "source": [
        "realGraph1=mmread('Harvard500.mtx')\n",
        "realGraph2=mmread('Roget.mtx')\n",
        "realGraph3=mmread('email-Eu-core.mtx')"
      ],
      "metadata": {
        "id": "BUCsdxI2gbx6"
      },
      "execution_count": 41,
      "outputs": []
    },
    {
      "cell_type": "code",
      "source": [
        "#функция для выбора случайного количества стартовых вершин (по количеству вершин графа и проценту стартовых вершин)\n",
        "def Generate_Vertex(nrows, cnt_vert):\n",
        "  import random\n",
        "  ar_vertex=range(nrows)\n",
        "  vertex_ar=random.sample(ar_vertex, int(nrows*cnt_vert/100))\n",
        "  return np.array(vertex_ar)\n"
      ],
      "metadata": {
        "id": "IxGxXPHJlyRB"
      },
      "execution_count": 27,
      "outputs": []
    },
    {
      "cell_type": "code",
      "source": [
        "#функция тестирования\n",
        "#получаю время выполнения через timeit\n",
        "def test_Levels_time(A, vertex_cnt):\n",
        "  print('MSBFS_Levels:')\n",
        "  %timeit MSBFS_Levels(A, vertex_cnt)"
      ],
      "metadata": {
        "id": "rGKZF4zSmrdD"
      },
      "execution_count": null,
      "outputs": []
    },
    {
      "cell_type": "code",
      "source": [
        "#функция тестирования\n",
        "#получаю время выполнения через timeit\n",
        "def test_Parents_time(A, vertex_cnt):\n",
        "  print('MSBFS_Parents:')\n",
        "  %timeit MSBFS_Levels(A, vertex_cnt)"
      ],
      "metadata": {
        "id": "LLt6OvqJ4mSS"
      },
      "execution_count": null,
      "outputs": []
    },
    {
      "cell_type": "code",
      "source": [
        "graphAr=[realGraph1, realGraph2, realGraph3]\n",
        "start_vert_perc=[10, 50, 90]\n",
        "for i in graphAr:\n",
        "  print(f'Количество вершин: {i.shape[0]}, количество ребер: {len(i.to_coo()[0])}')\n",
        "  for j in start_vert_perc:\n",
        "    print(f'Количество стартовых вершин: {int(j/100*i.nrows)}')\n",
        "    print(test_Levels_time(i, Generate_Vertex(i.nrows, j)))"
      ],
      "metadata": {
        "colab": {
          "base_uri": "https://localhost:8080/"
        },
        "id": "LcES0-QGlqH2",
        "outputId": "116238b9-793c-4453-af5f-ef3ce3bcc52b"
      },
      "execution_count": null,
      "outputs": [
        {
          "output_type": "stream",
          "name": "stdout",
          "text": [
            "Количество вершин: 500, количество ребер: 2636\n",
            "Количество стартовых вершин: 50\n",
            "MSBFS_Levels:\n",
            "2.53 s ± 1.16 s per loop (mean ± std. dev. of 7 runs, 1 loop each)\n",
            "None\n",
            "Количество стартовых вершин: 250\n",
            "MSBFS_Levels:\n",
            "10.8 s ± 695 ms per loop (mean ± std. dev. of 7 runs, 1 loop each)\n",
            "None\n",
            "Количество стартовых вершин: 450\n",
            "MSBFS_Levels:\n",
            "19 s ± 544 ms per loop (mean ± std. dev. of 7 runs, 1 loop each)\n",
            "None\n",
            "Количество вершин: 1022, количество ребер: 5075\n",
            "Количество стартовых вершин: 102\n",
            "MSBFS_Levels:\n",
            "9.79 s ± 227 ms per loop (mean ± std. dev. of 7 runs, 1 loop each)\n",
            "None\n",
            "Количество стартовых вершин: 511\n",
            "MSBFS_Levels:\n",
            "49.3 s ± 678 ms per loop (mean ± std. dev. of 7 runs, 1 loop each)\n",
            "None\n",
            "Количество стартовых вершин: 919\n",
            "MSBFS_Levels:\n",
            "1min 29s ± 2.41 s per loop (mean ± std. dev. of 7 runs, 1 loop each)\n",
            "None\n",
            "Количество вершин: 1005, количество ребер: 25571\n",
            "Количество стартовых вершин: 100\n",
            "MSBFS_Levels:\n",
            "8.84 s ± 591 ms per loop (mean ± std. dev. of 7 runs, 1 loop each)\n",
            "None\n",
            "Количество стартовых вершин: 502\n",
            "MSBFS_Levels:\n",
            "46.4 s ± 2.86 s per loop (mean ± std. dev. of 7 runs, 1 loop each)\n",
            "None\n",
            "Количество стартовых вершин: 904\n",
            "MSBFS_Levels:\n",
            "1min 35s ± 7.74 s per loop (mean ± std. dev. of 7 runs, 1 loop each)\n",
            "None\n"
          ]
        }
      ]
    },
    {
      "cell_type": "code",
      "source": [
        "graphAr=[realGraph1, realGraph2, realGraph3]\n",
        "start_vert_perc=[10, 50, 90]\n",
        "for i in graphAr:\n",
        "  print(f'Количество вершин: {i.shape[0]}, количество ребер: {len(i.to_coo()[0])}')\n",
        "  for j in start_vert_perc:\n",
        "    print(f'Количество стартовых вершин: {int(j/100*i.nrows)}')\n",
        "    print(test_Parents_time(i, Generate_Vertex(i.nrows, j)))"
      ],
      "metadata": {
        "colab": {
          "base_uri": "https://localhost:8080/"
        },
        "id": "5TwL1IkD4paZ",
        "outputId": "a88e39bf-93b4-4f2d-e4fc-ffdfcfadab77"
      },
      "execution_count": null,
      "outputs": [
        {
          "output_type": "stream",
          "name": "stdout",
          "text": [
            "Количество вершин: 500, количество ребер: 2636\n",
            "Количество стартовых вершин: 50\n",
            "MSBFS_Parents:\n",
            "2.08 s ± 306 ms per loop (mean ± std. dev. of 7 runs, 1 loop each)\n",
            "None\n",
            "Количество стартовых вершин: 250\n",
            "MSBFS_Parents:\n",
            "10.6 s ± 644 ms per loop (mean ± std. dev. of 7 runs, 1 loop each)\n",
            "None\n",
            "Количество стартовых вершин: 450\n",
            "MSBFS_Parents:\n",
            "18.9 s ± 578 ms per loop (mean ± std. dev. of 7 runs, 1 loop each)\n",
            "None\n",
            "Количество вершин: 1022, количество ребер: 5075\n",
            "Количество стартовых вершин: 102\n",
            "MSBFS_Parents:\n",
            "10.3 s ± 622 ms per loop (mean ± std. dev. of 7 runs, 1 loop each)\n",
            "None\n",
            "Количество стартовых вершин: 511\n",
            "MSBFS_Parents:\n",
            "49.1 s ± 556 ms per loop (mean ± std. dev. of 7 runs, 1 loop each)\n",
            "None\n",
            "Количество стартовых вершин: 919\n",
            "MSBFS_Parents:\n",
            "1min 28s ± 808 ms per loop (mean ± std. dev. of 7 runs, 1 loop each)\n",
            "None\n",
            "Количество вершин: 1005, количество ребер: 25571\n",
            "Количество стартовых вершин: 100\n",
            "MSBFS_Parents:\n",
            "11.6 s ± 1.34 s per loop (mean ± std. dev. of 7 runs, 1 loop each)\n",
            "None\n",
            "Количество стартовых вершин: 502\n",
            "MSBFS_Parents:\n",
            "53.8 s ± 2.79 s per loop (mean ± std. dev. of 7 runs, 1 loop each)\n",
            "None\n",
            "Количество стартовых вершин: 904\n",
            "MSBFS_Parents:\n",
            "1min 20s ± 701 ms per loop (mean ± std. dev. of 7 runs, 1 loop each)\n",
            "None\n"
          ]
        }
      ]
    },
    {
      "cell_type": "markdown",
      "source": [
        "**Тестирование на случайных графах**\n"
      ],
      "metadata": {
        "id": "I1TrokTTgbKh"
      }
    },
    {
      "cell_type": "code",
      "source": [
        "#функция генерации случайного неориентированного графа\n",
        "def gen_random_graphs(rows, reber):\n",
        "  import random\n",
        "  #задаю множества, так как номера элементов уникальны\n",
        "  set_vert=set()\n",
        "  #создаю верхний треугольник матрицы смежности в формате множества\n",
        "  for i in range(rows**2):\n",
        "    if i//rows!=i%rows:\n",
        "      set_vert.add(i)\n",
        "  #выбираю случайные индексы вершин старта и конца для создания ребер согласно входному параметру\n",
        "  x_from=random.sample(set_vert, reber)\n",
        "  indices_from=[]\n",
        "  indices_to=[]\n",
        "\n",
        "  for i in x_from:\n",
        "    indices_from.append(i//rows)\n",
        "    indices_to.append(i%rows)\n",
        "\n",
        "  return gb.Matrix.from_coo(\n",
        "      indices_from,\n",
        "      indices_to,\n",
        "      [1]*len(indices_from),\n",
        "      nrows=rows,\n",
        "      ncols=rows\n",
        "    )"
      ],
      "metadata": {
        "id": "-_-49ILSgh-W"
      },
      "execution_count": 25,
      "outputs": []
    },
    {
      "cell_type": "code",
      "source": [
        "#увеличиваю количество вершин при постоянном количестве ребер и количестве стартовых вершин\n",
        "for i in [10,50,100]:\n",
        "  print(f'Количество вершин: {i}, количество ребер: {int(i**2/2)}, количество стартовых вершин: {int(i/2)}')\n",
        "  randGraph=gen_random_graphs(i, int(i**2/2))\n",
        "  print(f'test_Levels_time')\n",
        "  print(test_Levels_time(randGraph, Generate_Vertex(i, i/2)))\n",
        "  print(f'test_Parents_time')\n",
        "  print(test_Parents_time(randGraph, Generate_Vertex(i, i/2)))"
      ],
      "metadata": {
        "colab": {
          "base_uri": "https://localhost:8080/"
        },
        "id": "kgdJcZ0WLykT",
        "outputId": "7d34ef81-36da-4d4b-b96c-d4aa51feaa6e"
      },
      "execution_count": null,
      "outputs": [
        {
          "output_type": "stream",
          "name": "stdout",
          "text": [
            "Количество вершин: 10, количество ребер: 50, количество стартовых вершин: 5\n",
            "test_Levels_time\n",
            "MSBFS_Levels:\n"
          ]
        },
        {
          "output_type": "stream",
          "name": "stderr",
          "text": [
            "<ipython-input-51-143c4dfbb5d9>:11: DeprecationWarning: Sampling from a set deprecated\n",
            "since Python 3.9 and will be removed in a subsequent version.\n",
            "  x_from=random.sample(set_vert, reber)\n"
          ]
        },
        {
          "output_type": "stream",
          "name": "stdout",
          "text": [
            "303 µs ± 68.7 µs per loop (mean ± std. dev. of 7 runs, 1000 loops each)\n",
            "None\n",
            "test_Parents_time\n",
            "MSBFS_Parents:\n",
            "159 µs ± 30.3 µs per loop (mean ± std. dev. of 7 runs, 10000 loops each)\n",
            "None\n",
            "Количество вершин: 50, количество ребер: 1250, количество стартовых вершин: 25\n",
            "test_Levels_time\n",
            "MSBFS_Levels:\n",
            "59.7 ms ± 540 µs per loop (mean ± std. dev. of 7 runs, 10 loops each)\n",
            "None\n",
            "test_Parents_time\n",
            "MSBFS_Parents:\n",
            "66.9 ms ± 12.9 ms per loop (mean ± std. dev. of 7 runs, 10 loops each)\n",
            "None\n",
            "Количество вершин: 100, количество ребер: 5000, количество стартовых вершин: 50\n",
            "test_Levels_time\n",
            "MSBFS_Levels:\n",
            "525 ms ± 111 ms per loop (mean ± std. dev. of 7 runs, 1 loop each)\n",
            "None\n",
            "test_Parents_time\n",
            "MSBFS_Parents:\n",
            "468 ms ± 7.97 ms per loop (mean ± std. dev. of 7 runs, 1 loop each)\n",
            "None\n"
          ]
        }
      ]
    },
    {
      "cell_type": "code",
      "source": [
        "#увеличиваю количество ребер при постоянном количестве вершин и стартовых вершин\n",
        "for i in [int(0.1*100**2), int(0.5*100**2), int(0.9*100**2)]:\n",
        "  print(f'Количество вершин: 100, количество ребер: {i}, количество стартовых вершин: {50}')\n",
        "  randGraph=gen_random_graphs(100, i)\n",
        "  print(f'test_Levels_time')\n",
        "  print(test_Levels_time(randGraph, Generate_Vertex(100, 50)))\n",
        "  print(f'test_Parents_time')\n",
        "  print(test_Parents_time(randGraph, Generate_Vertex(100, 50)))"
      ],
      "metadata": {
        "colab": {
          "base_uri": "https://localhost:8080/"
        },
        "id": "g5KUwSoNL2W2",
        "outputId": "8603383d-92fd-4857-b571-ab8fbe5a0514"
      },
      "execution_count": null,
      "outputs": [
        {
          "output_type": "stream",
          "name": "stdout",
          "text": [
            "Количество вершин: 100, количество ребер: 1000, количество стартовых вершин: 50\n",
            "test_Levels_time\n",
            "MSBFS_Levels:\n"
          ]
        },
        {
          "output_type": "stream",
          "name": "stderr",
          "text": [
            "<ipython-input-51-143c4dfbb5d9>:11: DeprecationWarning: Sampling from a set deprecated\n",
            "since Python 3.9 and will be removed in a subsequent version.\n",
            "  x_from=random.sample(set_vert, reber)\n"
          ]
        },
        {
          "output_type": "stream",
          "name": "stdout",
          "text": [
            "543 ms ± 109 ms per loop (mean ± std. dev. of 7 runs, 1 loop each)\n",
            "None\n",
            "test_Parents_time\n",
            "MSBFS_Parents:\n",
            "565 ms ± 135 ms per loop (mean ± std. dev. of 7 runs, 1 loop each)\n",
            "None\n",
            "Количество вершин: 100, количество ребер: 5000, количество стартовых вершин: 50\n",
            "test_Levels_time\n",
            "MSBFS_Levels:\n",
            "474 ms ± 10.7 ms per loop (mean ± std. dev. of 7 runs, 1 loop each)\n",
            "None\n",
            "test_Parents_time\n",
            "MSBFS_Parents:\n",
            "489 ms ± 38.3 ms per loop (mean ± std. dev. of 7 runs, 1 loop each)\n",
            "None\n",
            "Количество вершин: 100, количество ребер: 9000, количество стартовых вершин: 50\n",
            "test_Levels_time\n",
            "MSBFS_Levels:\n",
            "579 ms ± 134 ms per loop (mean ± std. dev. of 7 runs, 1 loop each)\n",
            "None\n",
            "test_Parents_time\n",
            "MSBFS_Parents:\n",
            "474 ms ± 12.4 ms per loop (mean ± std. dev. of 7 runs, 1 loop each)\n",
            "None\n"
          ]
        }
      ]
    },
    {
      "cell_type": "code",
      "source": [
        "#увеличиваю количество стартовых вершин при постоянном количестве вершин и ребер\n",
        "for i in [1,2,25,50,99]:\n",
        "  print(f'Количество вершин: 100, количество ребер: 5000, количество стартовых вершин: {int(i)}')\n",
        "  randGraph=gen_random_graphs(100, 5000)\n",
        "  print(f'test_Levels_time')\n",
        "  print(test_Levels_time(randGraph, Generate_Vertex(100, i)))\n",
        "  print(f'test_Parents_time')\n",
        "  print(test_Parents_time(randGraph, Generate_Vertex(100, i)))"
      ],
      "metadata": {
        "colab": {
          "base_uri": "https://localhost:8080/"
        },
        "id": "fGaFWxL0L6A-",
        "outputId": "f1ff2211-fffd-428f-f6d1-8cffd2b47bec"
      },
      "execution_count": null,
      "outputs": [
        {
          "output_type": "stream",
          "name": "stdout",
          "text": [
            "Количество вершин: 100, количество ребер: 5000, количество стартовых вершин: 1\n",
            "test_Levels_time\n",
            "MSBFS_Levels:\n"
          ]
        },
        {
          "output_type": "stream",
          "name": "stderr",
          "text": [
            "<ipython-input-51-143c4dfbb5d9>:11: DeprecationWarning: Sampling from a set deprecated\n",
            "since Python 3.9 and will be removed in a subsequent version.\n",
            "  x_from=random.sample(set_vert, reber)\n"
          ]
        },
        {
          "output_type": "stream",
          "name": "stdout",
          "text": [
            "12 ms ± 2.26 ms per loop (mean ± std. dev. of 7 runs, 100 loops each)\n",
            "None\n",
            "test_Parents_time\n",
            "MSBFS_Parents:\n",
            "11.1 ms ± 1.94 ms per loop (mean ± std. dev. of 7 runs, 100 loops each)\n",
            "None\n",
            "Количество вершин: 100, количество ребер: 5000, количество стартовых вершин: 2\n",
            "test_Levels_time\n",
            "MSBFS_Levels:\n",
            "26.9 ms ± 6.49 ms per loop (mean ± std. dev. of 7 runs, 10 loops each)\n",
            "None\n",
            "test_Parents_time\n",
            "MSBFS_Parents:\n",
            "21.5 ms ± 2.72 ms per loop (mean ± std. dev. of 7 runs, 100 loops each)\n",
            "None\n",
            "Количество вершин: 100, количество ребер: 5000, количество стартовых вершин: 25\n",
            "test_Levels_time\n",
            "MSBFS_Levels:\n",
            "235 ms ± 7.52 ms per loop (mean ± std. dev. of 7 runs, 1 loop each)\n",
            "None\n",
            "test_Parents_time\n",
            "MSBFS_Parents:\n",
            "238 ms ± 5.21 ms per loop (mean ± std. dev. of 7 runs, 1 loop each)\n",
            "None\n",
            "Количество вершин: 100, количество ребер: 5000, количество стартовых вершин: 50\n",
            "test_Levels_time\n",
            "MSBFS_Levels:\n",
            "647 ms ± 130 ms per loop (mean ± std. dev. of 7 runs, 1 loop each)\n",
            "None\n",
            "test_Parents_time\n",
            "MSBFS_Parents:\n",
            "475 ms ± 10 ms per loop (mean ± std. dev. of 7 runs, 1 loop each)\n",
            "None\n",
            "Количество вершин: 100, количество ребер: 5000, количество стартовых вершин: 99\n",
            "test_Levels_time\n",
            "MSBFS_Levels:\n",
            "1.11 s ± 247 ms per loop (mean ± std. dev. of 7 runs, 1 loop each)\n",
            "None\n",
            "test_Parents_time\n",
            "MSBFS_Parents:\n",
            "935 ms ± 9.93 ms per loop (mean ± std. dev. of 7 runs, 1 loop each)\n",
            "None\n"
          ]
        }
      ]
    },
    {
      "cell_type": "markdown",
      "source": [
        "**Выводы**"
      ],
      "metadata": {
        "id": "x33ZucuXgiQC"
      }
    },
    {
      "cell_type": "markdown",
      "source": [
        "1.При увеличении числа вершин (со средней разреженностью и половине стартовых вершин) резко увеличивается время работы обоих алгоритмов. Возможно, из-за увеличения количества столбцов матриц дольше работает операция матричного умножения. Также стоит отметить, что темп роста времени снижается при увеличении числа вершин (при увеличении с 10 до 50 вершин рост намного более быстрый, чем с 50 до 100).\n",
        "\n",
        "2.При увеличении числа стартовых вершин (при постоянном количестве вершин и разреженности) тоже можно отметить увеличение времени работы алгоритмов, даже немного похожее на линейную зависимость (с отклонением в большую или меньшую сторону). Возможно, это также обусловлено удорожанием матаричного умножения, поскольку увеличения количества стартовых вершин напрямую сказывается на строковой размерности фронта.\n",
        "\n",
        "3.При увеличении числа ребер (уплотнении графа) однозначной зависимости выявлено не было. Более того, по результатам тестов получилось так, что алгоритмы работают быстрее при средне-разреженных графах. В целом, это можно назвать логичным, поскольку алгоритмы адаптируются под реальные графы, а на практике очень редко можно встретить практически полные или совсем разреженные графы.\n",
        "\n",
        "4.Также можно отметить, что время работы алгоритмов почти во всех тестах было сравнимым: где-то чуть быстрее работал алгоритм levels, где-то parents."
      ],
      "metadata": {
        "id": "j9nF3PxoZ_73"
      }
    },
    {
      "cell_type": "markdown",
      "source": [
        "**Реализация алгоритмов в новом полукольце**"
      ],
      "metadata": {
        "id": "_ZKbYF2re3ar"
      }
    },
    {
      "cell_type": "markdown",
      "source": [
        "Полностью сохраняю код функций, только изменяю полукольцо в параметре semiring на any_pair и any_first."
      ],
      "metadata": {
        "id": "rh2isHCr9CC0"
      }
    },
    {
      "cell_type": "code",
      "source": [
        "def MSBFS_Levels_v2(A, vertex_cnt):\n",
        "  #1.Проверка на ориентированность графа\n",
        "  n = A.nrows #получаю общее количество вершин\n",
        "  if A.isequal(A.T) and A.nvals>0: #проверяю, что граф неориентирован\n",
        "    raise Exception(\"Ошибка: граф является неориентированным\")\n",
        "  #2.Задание начальных значений для параметров\n",
        "  m = vertex_cnt.size #получаю количество строк массива (по количеству стартовых вершин)\n",
        "  result = Matrix(dtypes.INT32, m, n) #задаю результирующую матрицу\n",
        "  f = Matrix(bool, m, n) #задаю фронт\n",
        "  succ = Vector(bool, m) #задаю вектор, определяющий доступность каких-либо вершин из текущей\n",
        "  for i in range(m):\n",
        "    f[i,vertex_cnt[i]] << True #заполняю изначальную матрицу строками (по одной на каждую стартовую вершину)\n",
        "  level=0\n",
        "  #3.Цикл обхода графа\n",
        "  while True:\n",
        "    result(mask=f.V) << level #заполняю стартовые вершины как нулевой уровень\n",
        "    f(~result.S, replace=True) << f.mxm(A, semiring.any_pair) #использую полукольцо any_pair\n",
        "    for i in range(m):\n",
        "      succ[i] << f[i,:].reduce(monoid.lor, allow_empty=False) #заполняю вектор наличия доступных вершин (для каждой из стартовых)\n",
        "    #рассчитываю, когда остановить цикл (если ни из одной стартовой вершины на очередной итерации нет доступных вершин)\n",
        "    cnt_true=0\n",
        "    for i in range(m):\n",
        "      if succ[i]:\n",
        "        #если хотя бы один элемент True, дальше искать не имеет смысла\n",
        "        cnt_true+=1\n",
        "        break\n",
        "    if cnt_true==0:\n",
        "      break\n",
        "    level+=1 #увеличиваю счетчик уровней\n",
        "  #4.Приведение ответа к требуемому формату\n",
        "  #заполняю недоступные вершины дефолтными значениями\n",
        "  #преобразую полученный результат в указанный в условии формат: словарь, где ключ - номер вершины, значение - массив номеров уровней\n",
        "  output = {}\n",
        "  for i in range(m):\n",
        "    ar_val=[]\n",
        "    for j in range(n):\n",
        "      if result[i,j].value is None:\n",
        "        ar_val.append(-1)\n",
        "      else:\n",
        "        ar_val.append(result[i,j].value)\n",
        "    output[vertex_cnt[i]]=np.array(ar_val)\n",
        "  return output"
      ],
      "metadata": {
        "id": "t8h3LN5TfCJt"
      },
      "execution_count": 22,
      "outputs": []
    },
    {
      "cell_type": "code",
      "source": [
        "#функция тестирования\n",
        "#получаю время выполнения через timeit\n",
        "def test_Levels_time_v2(A, vertex_cnt):\n",
        "  print('MSBFS_Levels_v2:')\n",
        "  %timeit MSBFS_Levels_v2(A, vertex_cnt)"
      ],
      "metadata": {
        "id": "25_QBijm7fQz"
      },
      "execution_count": 34,
      "outputs": []
    },
    {
      "cell_type": "code",
      "source": [
        "#функция тестирования\n",
        "#получаю время выполнения через timeit\n",
        "def test_Parents_time_v2(A, vertex_cnt):\n",
        "  print('MSBFS_Parents_v2:')\n",
        "  %timeit MSBFS_Parents_v2(A, vertex_cnt)"
      ],
      "metadata": {
        "id": "GsXRjjoE9ohW"
      },
      "execution_count": 35,
      "outputs": []
    },
    {
      "cell_type": "code",
      "source": [
        "def MSBFS_Parents_v2(A, vertex_cnt):\n",
        "  #1.Проверка на ориентированность графа\n",
        "  N = A.nrows #получаю общее количество вершин\n",
        "  if A.isequal(A.T) and A.nvals>0: #проверяю, что граф неориентирован\n",
        "    raise Exception(\"Ошибка: граф является неориентированным\")\n",
        "  M = vertex_cnt.size\n",
        "  #2.Задание стартовых значений\n",
        "  #генерация матрицы, где идентификатор вершины равен значению\n",
        "  index_ramp = Matrix(dtypes.UINT64, M, N)\n",
        "  for i in range(M):\n",
        "    for j in range(N):\n",
        "      index_ramp[i,j] << j\n",
        "  parents = Matrix(dtypes.UINT64, M, N)\n",
        "  wavefront = Matrix(dtypes.UINT64, M, N)\n",
        "  for i in range(M):\n",
        "    parents[i,vertex_cnt[i]] << vertex_cnt[i] #заполняю изначальную матрицу строками (по номерам соответствующей вершины)\n",
        "    wavefront[i, vertex_cnt[i]] << 1\n",
        "  #3.Цикл обхода графа\n",
        "  while wavefront.nvals > 0:\n",
        "    wavefront << index_ramp.ewise_mult(wavefront, binary.first) #преобразуем все сохраненные значения в wavefront в их индекс\n",
        "    wavefront(~parents.S, replace=True) << wavefront.mxm(A, semiring.any_first) #маскирование родительского списка\n",
        "    parents(binary.plus) << wavefront #Объединение новых родительских элементов в текущий волновой фронт с существующими родителями\n",
        "  #4.Приведение ответа к требуемому формату\n",
        "  #заполняю недоступные вершины дефолтными значениями\n",
        "  #преобразую полученный результат в указанный в условии формат: словарь, где ключ - номер вершины, значение - массив родительских вершин\n",
        "  output={}\n",
        "  for i in range(M):\n",
        "    ar_val=[]\n",
        "    for j in range(N):\n",
        "      if parents[i,j].value is None:\n",
        "        ar_val.append(-2)\n",
        "      elif j==vertex_cnt[i]:\n",
        "        ar_val.append(-1)\n",
        "      else:\n",
        "        ar_val.append(parents[i,j].value)\n",
        "    output[vertex_cnt[i]]=np.array(ar_val)\n",
        "  return output"
      ],
      "metadata": {
        "id": "SegU2uFi9TZB"
      },
      "execution_count": 30,
      "outputs": []
    },
    {
      "cell_type": "code",
      "source": [
        "#увеличиваю количество вершин при постоянном количестве ребер и количестве стартовых вершин\n",
        "for i in [10,50,100]:\n",
        "  print(f'Количество вершин: {i}, количество ребер: {int(i**2/2)}, количество стартовых вершин: {int(i/2)}')\n",
        "  randGraph=gen_random_graphs(i, int(i**2/2))\n",
        "  print(f'test_Levels_time')\n",
        "  print(test_Levels_time_v2(randGraph, Generate_Vertex(i, i/2)))\n",
        "  print(f'test_Parents_time')\n",
        "  print(test_Parents_time_v2(randGraph, Generate_Vertex(i, i/2)))"
      ],
      "metadata": {
        "colab": {
          "base_uri": "https://localhost:8080/"
        },
        "id": "bV0Vi25U9djt",
        "outputId": "eb958d77-09ec-4f68-ae53-513826d42ef6"
      },
      "execution_count": 36,
      "outputs": [
        {
          "output_type": "stream",
          "name": "stdout",
          "text": [
            "Количество вершин: 10, количество ребер: 50, количество стартовых вершин: 5\n",
            "test_Levels_time\n",
            "MSBFS_Levels_v2:\n"
          ]
        },
        {
          "output_type": "stream",
          "name": "stderr",
          "text": [
            "<ipython-input-25-143c4dfbb5d9>:11: DeprecationWarning: Sampling from a set deprecated\n",
            "since Python 3.9 and will be removed in a subsequent version.\n",
            "  x_from=random.sample(set_vert, reber)\n"
          ]
        },
        {
          "output_type": "stream",
          "name": "stdout",
          "text": [
            "215 µs ± 40.3 µs per loop (mean ± std. dev. of 7 runs, 10000 loops each)\n",
            "None\n",
            "test_Parents_time\n",
            "MSBFS_Parents_v2:\n",
            "123 µs ± 28 µs per loop (mean ± std. dev. of 7 runs, 10000 loops each)\n",
            "None\n",
            "Количество вершин: 50, количество ребер: 1250, количество стартовых вершин: 25\n",
            "test_Levels_time\n",
            "MSBFS_Levels_v2:\n",
            "57 ms ± 958 µs per loop (mean ± std. dev. of 7 runs, 10 loops each)\n",
            "None\n",
            "test_Parents_time\n",
            "MSBFS_Parents_v2:\n",
            "92.7 ms ± 29 ms per loop (mean ± std. dev. of 7 runs, 10 loops each)\n",
            "None\n",
            "Количество вершин: 100, количество ребер: 5000, количество стартовых вершин: 50\n",
            "test_Levels_time\n",
            "MSBFS_Levels_v2:\n",
            "455 ms ± 15.4 ms per loop (mean ± std. dev. of 7 runs, 1 loop each)\n",
            "None\n",
            "test_Parents_time\n",
            "MSBFS_Parents_v2:\n",
            "689 ms ± 134 ms per loop (mean ± std. dev. of 7 runs, 1 loop each)\n",
            "None\n"
          ]
        }
      ]
    },
    {
      "cell_type": "code",
      "source": [
        "#увеличиваю количество ребер при постоянном количестве вершин и стартовых вершин\n",
        "for i in [int(0.1*100**2), int(0.5*100**2), int(0.9*100**2)]:\n",
        "  print(f'Количество вершин: 100, количество ребер: {i}, количество стартовых вершин: {50}')\n",
        "  randGraph=gen_random_graphs(100, i)\n",
        "  print(f'test_Levels_time')\n",
        "  print(test_Levels_time_v2(randGraph, Generate_Vertex(100, 50)))\n",
        "  print(f'test_Parents_time')\n",
        "  print(test_Parents_time_v2(randGraph, Generate_Vertex(100, 50)))"
      ],
      "metadata": {
        "colab": {
          "base_uri": "https://localhost:8080/"
        },
        "id": "hyDtbaGT-Uw3",
        "outputId": "7759e64b-df42-4fd8-fc5b-8735c0921c8f"
      },
      "execution_count": 37,
      "outputs": [
        {
          "output_type": "stream",
          "name": "stdout",
          "text": [
            "Количество вершин: 100, количество ребер: 1000, количество стартовых вершин: 50\n",
            "test_Levels_time\n",
            "MSBFS_Levels_v2:\n"
          ]
        },
        {
          "output_type": "stream",
          "name": "stderr",
          "text": [
            "<ipython-input-25-143c4dfbb5d9>:11: DeprecationWarning: Sampling from a set deprecated\n",
            "since Python 3.9 and will be removed in a subsequent version.\n",
            "  x_from=random.sample(set_vert, reber)\n"
          ]
        },
        {
          "output_type": "stream",
          "name": "stdout",
          "text": [
            "830 ms ± 274 ms per loop (mean ± std. dev. of 7 runs, 1 loop each)\n",
            "None\n",
            "test_Parents_time\n",
            "MSBFS_Parents_v2:\n",
            "767 ms ± 240 ms per loop (mean ± std. dev. of 7 runs, 1 loop each)\n",
            "None\n",
            "Количество вершин: 100, количество ребер: 5000, количество стартовых вершин: 50\n",
            "test_Levels_time\n",
            "MSBFS_Levels_v2:\n",
            "453 ms ± 7 ms per loop (mean ± std. dev. of 7 runs, 1 loop each)\n",
            "None\n",
            "test_Parents_time\n",
            "MSBFS_Parents_v2:\n",
            "613 ms ± 32.9 ms per loop (mean ± std. dev. of 7 runs, 1 loop each)\n",
            "None\n",
            "Количество вершин: 100, количество ребер: 9000, количество стартовых вершин: 50\n",
            "test_Levels_time\n",
            "MSBFS_Levels_v2:\n",
            "631 ms ± 135 ms per loop (mean ± std. dev. of 7 runs, 1 loop each)\n",
            "None\n",
            "test_Parents_time\n",
            "MSBFS_Parents_v2:\n",
            "596 ms ± 24.1 ms per loop (mean ± std. dev. of 7 runs, 1 loop each)\n",
            "None\n"
          ]
        }
      ]
    },
    {
      "cell_type": "code",
      "source": [
        "#увеличиваю количество стартовых вершин при постоянном количестве вершин и ребер\n",
        "for i in [1,2,25,50,99]:\n",
        "  print(f'Количество вершин: 100, количество ребер: 5000, количество стартовых вершин: {int(i)}')\n",
        "  randGraph=gen_random_graphs(100, 5000)\n",
        "  print(f'test_Levels_time')\n",
        "  print(test_Levels_time_v2(randGraph, Generate_Vertex(100, i)))\n",
        "  print(f'test_Parents_time')\n",
        "  print(test_Parents_time_v2(randGraph, Generate_Vertex(100, i)))"
      ],
      "metadata": {
        "colab": {
          "base_uri": "https://localhost:8080/"
        },
        "id": "eyU6vyXS-mFz",
        "outputId": "e591805a-b60a-444b-ae2f-6538e29f4c98"
      },
      "execution_count": 38,
      "outputs": [
        {
          "output_type": "stream",
          "name": "stdout",
          "text": [
            "Количество вершин: 100, количество ребер: 5000, количество стартовых вершин: 1\n",
            "test_Levels_time\n",
            "MSBFS_Levels_v2:\n"
          ]
        },
        {
          "output_type": "stream",
          "name": "stderr",
          "text": [
            "<ipython-input-25-143c4dfbb5d9>:11: DeprecationWarning: Sampling from a set deprecated\n",
            "since Python 3.9 and will be removed in a subsequent version.\n",
            "  x_from=random.sample(set_vert, reber)\n"
          ]
        },
        {
          "output_type": "stream",
          "name": "stdout",
          "text": [
            "36.7 ms ± 4.83 ms per loop (mean ± std. dev. of 7 runs, 10 loops each)\n",
            "None\n",
            "test_Parents_time\n",
            "MSBFS_Parents_v2:\n",
            "13.7 ms ± 949 µs per loop (mean ± std. dev. of 7 runs, 10 loops each)\n",
            "None\n",
            "Количество вершин: 100, количество ребер: 5000, количество стартовых вершин: 2\n",
            "test_Levels_time\n",
            "MSBFS_Levels_v2:\n",
            "19.3 ms ± 361 µs per loop (mean ± std. dev. of 7 runs, 10 loops each)\n",
            "None\n",
            "test_Parents_time\n",
            "MSBFS_Parents_v2:\n",
            "25.1 ms ± 880 µs per loop (mean ± std. dev. of 7 runs, 10 loops each)\n",
            "None\n",
            "Количество вершин: 100, количество ребер: 5000, количество стартовых вершин: 25\n",
            "test_Levels_time\n",
            "MSBFS_Levels_v2:\n",
            "357 ms ± 33.6 ms per loop (mean ± std. dev. of 7 runs, 1 loop each)\n",
            "None\n",
            "test_Parents_time\n",
            "MSBFS_Parents_v2:\n",
            "306 ms ± 19.4 ms per loop (mean ± std. dev. of 7 runs, 1 loop each)\n",
            "None\n",
            "Количество вершин: 100, количество ребер: 5000, количество стартовых вершин: 50\n",
            "test_Levels_time\n",
            "MSBFS_Levels_v2:\n",
            "460 ms ± 11.6 ms per loop (mean ± std. dev. of 7 runs, 1 loop each)\n",
            "None\n",
            "test_Parents_time\n",
            "MSBFS_Parents_v2:\n",
            "661 ms ± 138 ms per loop (mean ± std. dev. of 7 runs, 1 loop each)\n",
            "None\n",
            "Количество вершин: 100, количество ребер: 5000, количество стартовых вершин: 99\n",
            "test_Levels_time\n",
            "MSBFS_Levels_v2:\n",
            "924 ms ± 90.9 ms per loop (mean ± std. dev. of 7 runs, 1 loop each)\n",
            "None\n",
            "test_Parents_time\n",
            "MSBFS_Parents_v2:\n",
            "1.37 s ± 245 ms per loop (mean ± std. dev. of 7 runs, 1 loop each)\n",
            "None\n"
          ]
        }
      ]
    },
    {
      "cell_type": "code",
      "source": [
        "graphAr=[realGraph1, realGraph2]\n",
        "start_vert_perc=[10, 50, 90]\n",
        "for i in graphAr:\n",
        "  print(f'Количество вершин: {i.shape[0]}, количество ребер: {len(i.to_coo()[0])}')\n",
        "  for j in start_vert_perc:\n",
        "    print(f'Количество стартовых вершин: {int(j/100*i.nrows)}')\n",
        "    print(test_Levels_time_v2(i, Generate_Vertex(i.nrows, j)))"
      ],
      "metadata": {
        "colab": {
          "base_uri": "https://localhost:8080/"
        },
        "id": "8neaTpAgAKRP",
        "outputId": "0886e226-e198-468a-b3b9-b8e2bcc43936"
      },
      "execution_count": 42,
      "outputs": [
        {
          "output_type": "stream",
          "name": "stdout",
          "text": [
            "Количество вершин: 500, количество ребер: 2636\n",
            "Количество стартовых вершин: 50\n",
            "MSBFS_Levels_v2:\n",
            "1.99 s ± 275 ms per loop (mean ± std. dev. of 7 runs, 1 loop each)\n",
            "None\n",
            "Количество стартовых вершин: 250\n",
            "MSBFS_Levels_v2:\n",
            "11.9 s ± 2.5 s per loop (mean ± std. dev. of 7 runs, 1 loop each)\n",
            "None\n",
            "Количество стартовых вершин: 450\n",
            "MSBFS_Levels_v2:\n",
            "20.2 s ± 2.43 s per loop (mean ± std. dev. of 7 runs, 1 loop each)\n",
            "None\n",
            "Количество вершин: 1022, количество ребер: 5075\n",
            "Количество стартовых вершин: 102\n",
            "MSBFS_Levels_v2:\n",
            "10.2 s ± 1.17 s per loop (mean ± std. dev. of 7 runs, 1 loop each)\n",
            "None\n",
            "Количество стартовых вершин: 511\n",
            "MSBFS_Levels_v2:\n",
            "51.1 s ± 6.51 s per loop (mean ± std. dev. of 7 runs, 1 loop each)\n",
            "None\n",
            "Количество стартовых вершин: 919\n",
            "MSBFS_Levels_v2:\n",
            "1min 25s ± 2.04 s per loop (mean ± std. dev. of 7 runs, 1 loop each)\n",
            "None\n"
          ]
        }
      ]
    },
    {
      "cell_type": "code",
      "source": [
        "graphAr=[realGraph1, realGraph2]\n",
        "start_vert_perc=[10, 50, 90]\n",
        "for i in graphAr:\n",
        "  print(f'Количество вершин: {i.shape[0]}, количество ребер: {len(i.to_coo()[0])}')\n",
        "  for j in start_vert_perc:\n",
        "    print(f'Количество стартовых вершин: {int(j/100*i.nrows)}')\n",
        "    print(test_Parents_time_v2(i, Generate_Vertex(i.nrows, j)))"
      ],
      "metadata": {
        "colab": {
          "base_uri": "https://localhost:8080/"
        },
        "id": "_ls3m8PVBlZi",
        "outputId": "45008c0f-dc49-4c7e-ea4f-d1e67b3d94be"
      },
      "execution_count": 43,
      "outputs": [
        {
          "output_type": "stream",
          "name": "stdout",
          "text": [
            "Количество вершин: 500, количество ребер: 2636\n",
            "Количество стартовых вершин: 50\n",
            "MSBFS_Parents_v2:\n",
            "3.06 s ± 517 ms per loop (mean ± std. dev. of 7 runs, 1 loop each)\n",
            "None\n",
            "Количество стартовых вершин: 250\n",
            "MSBFS_Parents_v2:\n",
            "15.4 s ± 2.08 s per loop (mean ± std. dev. of 7 runs, 1 loop each)\n",
            "None\n",
            "Количество стартовых вершин: 450\n",
            "MSBFS_Parents_v2:\n",
            "28.7 s ± 2.73 s per loop (mean ± std. dev. of 7 runs, 1 loop each)\n",
            "None\n",
            "Количество вершин: 1022, количество ребер: 5075\n",
            "Количество стартовых вершин: 102\n",
            "MSBFS_Parents_v2:\n",
            "13.3 s ± 183 ms per loop (mean ± std. dev. of 7 runs, 1 loop each)\n",
            "None\n",
            "Количество стартовых вершин: 511\n",
            "MSBFS_Parents_v2:\n",
            "1min 9s ± 6.63 s per loop (mean ± std. dev. of 7 runs, 1 loop each)\n",
            "None\n",
            "Количество стартовых вершин: 919\n",
            "MSBFS_Parents_v2:\n",
            "2min ± 1.6 s per loop (mean ± std. dev. of 7 runs, 1 loop each)\n",
            "None\n"
          ]
        }
      ]
    },
    {
      "cell_type": "markdown",
      "source": [
        "**Выводы**"
      ],
      "metadata": {
        "id": "XYVg0CGg_Es5"
      }
    },
    {
      "cell_type": "markdown",
      "source": [
        "1. Что касается алгоритма Levels, то при крайних значениях (маленькие графы, либо очень разреженные, либо очень плотные, маленькое количество стартовых вершин) алгоритм в начальном кольце работает быстрее. Однако, при увеличении плотности графа, увеличении размеров и количестве стартовых вершин (то есть при приближении графа к реальным практическим задачам) полукольцо any-pair дает меньшее время выполнения.\n",
        "\n",
        "2. Что касается алгоритма Parents, то результат немного отличается. При приближении графов к реальным задачам алгоритм с использованием полукольца any-first дает cравнимое время (на маленьких значениях изначальное полукольцо работает быстрее). Возможно, что это связано с тем, что вместо нахождения минимального элемента, берется первый подходящий, и при большом количестве подходящих подобная стратегия более эффективна. Но, при увеличении количества стартовых вершин изначальное полукольцо работает значительно быстрее. Возможно это связано с тем, что при увеличении элементов выбор min-элемента осуществляется по немного другой стратегии, и не дает значительных преимуществ полукольцу any-first."
      ],
      "metadata": {
        "id": "avoi3XjX_ISe"
      }
    }
  ]
}